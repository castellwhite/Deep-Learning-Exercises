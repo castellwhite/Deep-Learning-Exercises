{
 "cells": [
  {
   "cell_type": "code",
   "execution_count": null,
   "metadata": {},
   "outputs": [],
   "source": []
  },
  {
   "cell_type": "markdown",
   "metadata": {},
   "source": [
    "# Exercise 7\n",
    "\n",
    "Data Preparation"
   ]
  },
  {
   "cell_type": "markdown",
   "metadata": {},
   "source": [
    "We will train our network on the **CIFAR10** [dataset](https://www.cs.toronto.edu/~kriz/cifar.html), which contains `50,000` 32x32 color training images, labeled over 10 categories, and 10,000 test images. \n",
    "\n",
    "As this dataset is also included in Keras datasets, we just ask the `keras.datasets` module for the dataset.\n",
    "\n",
    "Training and test images are normalized to lie in the $\\left[0,1\\right]$ interval."
   ]
  },
  {
   "cell_type": "code",
   "execution_count": 2,
   "metadata": {},
   "outputs": [
    {
     "name": "stderr",
     "output_type": "stream",
     "text": [
      "Using TensorFlow backend.\n"
     ]
    }
   ],
   "source": [
    "from keras.datasets import cifar10\n",
    "from keras.utils import np_utils\n",
    "import pandas as pd\n",
    "import numpy as np\n",
    "import matplotlib.pyplot as plt\n",
    "import matplotlib.image as mpimg\n",
    "%matplotlib inline"
   ]
  },
  {
   "cell_type": "code",
   "execution_count": 2,
   "metadata": {},
   "outputs": [],
   "source": [
    "# Normal option with full database\n",
    "# (X_train, y_train), (X_test, y_test) = cifar10.load_data()  # File is 160MB"
   ]
  },
  {
   "cell_type": "code",
   "execution_count": 3,
   "metadata": {},
   "outputs": [],
   "source": [
    "# Only the first training batch and testing  # File is 58MB\n",
    "import tarfile\n",
    "from six.moves import cPickle\n",
    "\n",
    "# Use local copy of the cifar-10 database\n",
    "data_tar = tarfile.open('../datasets/cifar-10-python_trainingbatch1_test.tar.gz')\n",
    "\n",
    "def extract_xy(member, data_tar):\n",
    "    d = cPickle.load(data_tar.extractfile(member), encoding='bytes')\n",
    "    d_decoded = {}\n",
    "    for k, v in d.items():\n",
    "        d_decoded[k.decode('utf8')] = v\n",
    "    d = d_decoded\n",
    "    X = d['data']\n",
    "    X = X.reshape(X.shape[0], 3, 32, 32)\n",
    "    y = d['labels']\n",
    "    return X.transpose(0, 2, 3, 1), np.reshape(y, (len(y), 1))\n",
    "\n",
    "X_train, y_train = extract_xy('cifar-10-batches-py/data_batch_1', data_tar)\n",
    "X_test, y_test = extract_xy('cifar-10-batches-py/test_batch', data_tar)"
   ]
  },
  {
   "cell_type": "code",
   "execution_count": 4,
   "metadata": {},
   "outputs": [
    {
     "data": {
      "text/plain": [
       "((10000, 32, 32, 3), (10000, 32, 32, 3))"
      ]
     },
     "execution_count": 4,
     "metadata": {},
     "output_type": "execute_result"
    }
   ],
   "source": [
    "X_train.shape, X_test.shape"
   ]
  },
  {
   "cell_type": "markdown",
   "metadata": {},
   "source": [
    "La ultima dimensión me indica cuantas matrices tengo"
   ]
  },
  {
   "cell_type": "code",
   "execution_count": 5,
   "metadata": {},
   "outputs": [
    {
     "data": {
      "text/plain": [
       "array([[ 59,  43,  50, ..., 158, 152, 148],\n",
       "       [ 16,   0,  18, ..., 123, 119, 122],\n",
       "       [ 25,  16,  49, ..., 118, 120, 109],\n",
       "       ..., \n",
       "       [208, 201, 198, ..., 160,  56,  53],\n",
       "       [180, 173, 186, ..., 184,  97,  83],\n",
       "       [177, 168, 179, ..., 216, 151, 123]], dtype=uint8)"
      ]
     },
     "execution_count": 5,
     "metadata": {},
     "output_type": "execute_result"
    }
   ],
   "source": [
    "X_train[0,:,:,0] # intensidad del color Rojo, en 1 el verde, 2 azul\n",
    "# la dimension 1 es la imagen, la 2 es 32 y la trae completa al igual que la tercera 32: la ultima es si es rojo, verde o azul"
   ]
  },
  {
   "cell_type": "code",
   "execution_count": 6,
   "metadata": {},
   "outputs": [],
   "source": [
    "nb_classes = y_train.max() + 1\n",
    "# para que el algoritmo entienda las categorias le debo dar una matriz, esto debido a que \n",
    "# la calsificación puede ser no 1 a 1. Cada Y es un vector 1 si pertenece a la categoria y o si no\n",
    "Y_train = np_utils.to_categorical(y_train, nb_classes)\n",
    "Y_test = np_utils.to_categorical(y_test, nb_classes)\n",
    "X_train = X_train.astype(\"float32\")\n",
    "X_test = X_test.astype(\"float32\")\n",
    "X_train /= 255\n",
    "X_test /= 255"
   ]
  },
  {
   "cell_type": "code",
   "execution_count": 7,
   "metadata": {},
   "outputs": [],
   "source": [
    "labels = ['airplane', 'automobile','bird', 'cat', 'deer', 'dog', 'frog', 'horse', 'ship','truck']"
   ]
  },
  {
   "cell_type": "code",
   "execution_count": 8,
   "metadata": {},
   "outputs": [
    {
     "data": {
      "text/plain": [
       "(32, 32, 3)"
      ]
     },
     "execution_count": 8,
     "metadata": {},
     "output_type": "execute_result"
    }
   ],
   "source": [
    "X_train[0].shape"
   ]
  },
  {
   "cell_type": "code",
   "execution_count": 9,
   "metadata": {},
   "outputs": [
    {
     "data": {
      "text/plain": [
       "array([6])"
      ]
     },
     "execution_count": 9,
     "metadata": {},
     "output_type": "execute_result"
    }
   ],
   "source": [
    "y_train[0]"
   ]
  },
  {
   "cell_type": "code",
   "execution_count": 10,
   "metadata": {},
   "outputs": [
    {
     "data": {
      "text/plain": [
       "array([ 0.,  0.,  0.,  0.,  0.,  0.,  1.,  0.,  0.,  0.], dtype=float32)"
      ]
     },
     "execution_count": 10,
     "metadata": {},
     "output_type": "execute_result"
    }
   ],
   "source": [
    "Y_train[0]"
   ]
  },
  {
   "cell_type": "code",
   "execution_count": 11,
   "metadata": {},
   "outputs": [
    {
     "data": {
      "image/png": "[encoded data removed]",
      "text/plain": [
       "<matplotlib.figure.Figure at 0x181f20e470>"
      ]
     },
     "metadata": {},
     "output_type": "display_data"
    }
   ],
   "source": [
    "# Select one image per y\n",
    "images = [np.nonzero(Y_train[:,i] == 1)[0][0] for i in range(nb_classes)]\n",
    "\n",
    "# Plot all images\n",
    "fig, ax = plt.subplots(4,3, figsize=(10,10))\n",
    "ax = ax.reshape(12)\n",
    "for i in range(nb_classes):\n",
    "    ax[i].imshow(X_train[images[i]])\n",
    "    ax[i].set_title(labels[y_train[images[i]][0]])\n",
    "    ax[i].axis('off')\n",
    "\n",
    "ax[-1].axis('off')\n",
    "ax[-2].axis('off')\n",
    "plt.show()"
   ]
  },
  {
   "cell_type": "markdown",
   "metadata": {},
   "source": [
    "Objetivo: me llega una imagen y quiero predecir a que imagen pertenece.\n",
    "regresión Softmax es una multivariada donde suman 1."
   ]
  },
  {
   "cell_type": "markdown",
   "metadata": {},
   "source": [
    "# Exercise 08.1\n",
    "\n",
    "Train a Softmax regression using keras\n",
    "Optimized using rmsprop using as loss categorical_crossentropy\n",
    "\n",
    "Hints: \n",
    "- test with two iterations then try more. \n",
    "- learning can be ajusted\n",
    "\n",
    "Evaluate the performance using the testing set (aprox 31% with 50 epochs)"
   ]
  },
  {
   "cell_type": "code",
   "execution_count": 20,
   "metadata": {},
   "outputs": [],
   "source": [
    "from keras.models import Sequential\n",
    "from keras.layers import Dense, Dropout, Activation, Flatten\n",
    "from keras.layers import Conv2D, MaxPooling2D\n",
    "from livelossplot import PlotLossesKeras"
   ]
  },
  {
   "cell_type": "markdown",
   "metadata": {},
   "source": [
    "To resolve this point, and the rest for this notebook, we will follow the next structure\n",
    "\n",
    "1. Create an empty Grapho\n",
    "2. Reshape the data to a vector\n",
    "3. Create a dense layer with 10 outputs (one for each class)\n",
    "4. Add a Softmax activation \n",
    "5. Compile the model \n",
    "6. Fit the model with 50 epochs, in this step we will use a 20% validation set, just for aviod the overfitting.\n",
    "7. Predict the model\n"
   ]
  },
  {
   "cell_type": "code",
   "execution_count": 27,
   "metadata": {},
   "outputs": [
    {
     "name": "stdout",
     "output_type": "stream",
     "text": [
      "_________________________________________________________________\n",
      "Layer (type)                 Output Shape              Param #   \n",
      "=================================================================\n",
      "flatten_3 (Flatten)          (None, 3072)              0         \n",
      "_________________________________________________________________\n",
      "dense_3 (Dense)              (None, 10)                30730     \n",
      "_________________________________________________________________\n",
      "activation_3 (Activation)    (None, 10)                0         \n",
      "=================================================================\n",
      "Total params: 30,730\n",
      "Trainable params: 30,730\n",
      "Non-trainable params: 0\n",
      "_________________________________________________________________\n"
     ]
    }
   ],
   "source": [
    "model = Sequential() # crea un grafo vacío\n",
    "model.add(Flatten(input_shape=X_train.shape[1:])) # Coloca en un solo vector 32*32*3 en un vector de 1*1024\n",
    "model.add(Dense(10))\n",
    "model.add(Activation('softmax'))\n",
    "model.summary()"
   ]
  },
  {
   "cell_type": "markdown",
   "metadata": {},
   "source": [
    "We got a total of 30,730 parameters"
   ]
  },
  {
   "cell_type": "code",
   "execution_count": 28,
   "metadata": {},
   "outputs": [],
   "source": [
    "model.compile(loss='categorical_crossentropy',\n",
    "              optimizer='rmsprop',\n",
    "              metrics=['accuracy'])"
   ]
  },
  {
   "cell_type": "code",
   "execution_count": 29,
   "metadata": {},
   "outputs": [
    {
     "name": "stdout",
     "output_type": "stream",
     "text": [
      "Train on 8000 samples, validate on 2000 samples\n",
      "Epoch 1/50\n",
      " - 1s - loss: 2.3665 - acc: 0.2058 - val_loss: 2.2199 - val_acc: 0.2660\n",
      "Epoch 2/50\n",
      " - 1s - loss: 2.1619 - acc: 0.2671 - val_loss: 2.1790 - val_acc: 0.2640\n",
      "Epoch 3/50\n",
      " - 0s - loss: 2.0975 - acc: 0.2869 - val_loss: 2.4636 - val_acc: 0.2520\n",
      "Epoch 4/50\n",
      " - 0s - loss: 2.0654 - acc: 0.3044 - val_loss: 2.5858 - val_acc: 0.2245\n",
      "Epoch 5/50\n",
      " - 0s - loss: 2.0542 - acc: 0.3076 - val_loss: 2.3385 - val_acc: 0.2510\n",
      "Epoch 6/50\n",
      " - 0s - loss: 2.0146 - acc: 0.3194 - val_loss: 1.9535 - val_acc: 0.3355\n",
      "Epoch 7/50\n",
      " - 0s - loss: 2.0006 - acc: 0.3298 - val_loss: 2.2247 - val_acc: 0.2910\n",
      "Epoch 8/50\n",
      " - 0s - loss: 1.9869 - acc: 0.3344 - val_loss: 2.0301 - val_acc: 0.3390\n",
      "Epoch 9/50\n",
      " - 1s - loss: 1.9705 - acc: 0.3337 - val_loss: 2.1617 - val_acc: 0.2770\n",
      "Epoch 10/50\n",
      " - 1s - loss: 1.9356 - acc: 0.3468 - val_loss: 2.1044 - val_acc: 0.3095\n",
      "Epoch 11/50\n",
      " - 0s - loss: 1.9514 - acc: 0.3416 - val_loss: 1.9714 - val_acc: 0.3330\n",
      "Epoch 12/50\n",
      " - 0s - loss: 1.9130 - acc: 0.3589 - val_loss: 2.1078 - val_acc: 0.3000\n",
      "Epoch 13/50\n",
      " - 0s - loss: 1.9319 - acc: 0.3508 - val_loss: 2.0037 - val_acc: 0.3325\n",
      "Epoch 14/50\n",
      " - 0s - loss: 1.9066 - acc: 0.3549 - val_loss: 2.1352 - val_acc: 0.2945\n",
      "Epoch 15/50\n",
      " - 0s - loss: 1.8996 - acc: 0.3588 - val_loss: 2.0776 - val_acc: 0.3180\n",
      "Epoch 16/50\n",
      " - 0s - loss: 1.8939 - acc: 0.3613 - val_loss: 1.9347 - val_acc: 0.3530\n",
      "Epoch 17/50\n",
      " - 0s - loss: 1.8801 - acc: 0.3731 - val_loss: 2.1052 - val_acc: 0.3085\n",
      "Epoch 18/50\n",
      " - 0s - loss: 1.8749 - acc: 0.3695 - val_loss: 2.0919 - val_acc: 0.3115\n",
      "Epoch 19/50\n",
      " - 0s - loss: 1.8727 - acc: 0.3662 - val_loss: 1.9518 - val_acc: 0.3565\n",
      "Epoch 20/50\n",
      " - 0s - loss: 1.8721 - acc: 0.3714 - val_loss: 2.1444 - val_acc: 0.3320\n",
      "Epoch 21/50\n",
      " - 0s - loss: 1.8589 - acc: 0.3650 - val_loss: 2.0400 - val_acc: 0.3120\n",
      "Epoch 22/50\n",
      " - 0s - loss: 1.8670 - acc: 0.3805 - val_loss: 2.1178 - val_acc: 0.3090\n",
      "Epoch 23/50\n",
      " - 0s - loss: 1.8431 - acc: 0.3743 - val_loss: 2.1713 - val_acc: 0.3055\n",
      "Epoch 24/50\n",
      " - 0s - loss: 1.8406 - acc: 0.3736 - val_loss: 2.1882 - val_acc: 0.2960\n",
      "Epoch 25/50\n",
      " - 0s - loss: 1.8422 - acc: 0.3865 - val_loss: 2.2543 - val_acc: 0.3105\n",
      "Epoch 26/50\n",
      " - 0s - loss: 1.8272 - acc: 0.3875 - val_loss: 1.9002 - val_acc: 0.3630\n",
      "Epoch 27/50\n",
      " - 0s - loss: 1.8234 - acc: 0.3872 - val_loss: 2.1566 - val_acc: 0.3215\n",
      "Epoch 28/50\n",
      " - 0s - loss: 1.8301 - acc: 0.3825 - val_loss: 1.8562 - val_acc: 0.3680\n",
      "Epoch 29/50\n",
      " - 1s - loss: 1.8255 - acc: 0.3842 - val_loss: 1.9796 - val_acc: 0.3385\n",
      "Epoch 30/50\n",
      " - 1s - loss: 1.8073 - acc: 0.3955 - val_loss: 2.0605 - val_acc: 0.3260\n",
      "Epoch 31/50\n",
      " - 1s - loss: 1.7958 - acc: 0.3974 - val_loss: 2.2197 - val_acc: 0.3280\n",
      "Epoch 32/50\n",
      " - 1s - loss: 1.8057 - acc: 0.3871 - val_loss: 2.0407 - val_acc: 0.3475\n",
      "Epoch 33/50\n",
      " - 1s - loss: 1.8086 - acc: 0.3932 - val_loss: 2.0044 - val_acc: 0.3490\n",
      "Epoch 34/50\n",
      " - 1s - loss: 1.7804 - acc: 0.3944 - val_loss: 2.5808 - val_acc: 0.2545\n",
      "Epoch 35/50\n",
      " - 1s - loss: 1.7930 - acc: 0.4021 - val_loss: 1.8935 - val_acc: 0.3715\n",
      "Epoch 36/50\n",
      " - 1s - loss: 1.7876 - acc: 0.3945 - val_loss: 2.0259 - val_acc: 0.3450\n",
      "Epoch 37/50\n",
      " - 1s - loss: 1.7729 - acc: 0.3982 - val_loss: 1.9755 - val_acc: 0.3535\n",
      "Epoch 38/50\n",
      " - 1s - loss: 1.7710 - acc: 0.3992 - val_loss: 2.1447 - val_acc: 0.3300\n",
      "Epoch 39/50\n",
      " - 1s - loss: 1.7719 - acc: 0.4019 - val_loss: 2.1289 - val_acc: 0.3255\n",
      "Epoch 40/50\n",
      " - 1s - loss: 1.7663 - acc: 0.4049 - val_loss: 2.1002 - val_acc: 0.3305\n",
      "Epoch 41/50\n",
      " - 0s - loss: 1.7701 - acc: 0.4044 - val_loss: 2.1191 - val_acc: 0.3285\n",
      "Epoch 42/50\n",
      " - 0s - loss: 1.7748 - acc: 0.4010 - val_loss: 2.0548 - val_acc: 0.3280\n",
      "Epoch 43/50\n",
      " - 0s - loss: 1.7593 - acc: 0.4099 - val_loss: 2.2490 - val_acc: 0.3210\n",
      "Epoch 44/50\n",
      " - 0s - loss: 1.7521 - acc: 0.4079 - val_loss: 1.9946 - val_acc: 0.3525\n",
      "Epoch 45/50\n",
      " - 0s - loss: 1.7513 - acc: 0.4094 - val_loss: 2.1746 - val_acc: 0.3170\n",
      "Epoch 46/50\n",
      " - 0s - loss: 1.7500 - acc: 0.4084 - val_loss: 1.9958 - val_acc: 0.3530\n",
      "Epoch 47/50\n",
      " - 0s - loss: 1.7593 - acc: 0.4110 - val_loss: 2.0678 - val_acc: 0.3360\n",
      "Epoch 48/50\n",
      " - 0s - loss: 1.7441 - acc: 0.4158 - val_loss: 2.1259 - val_acc: 0.3420\n",
      "Epoch 49/50\n",
      " - 1s - loss: 1.7432 - acc: 0.4159 - val_loss: 2.2962 - val_acc: 0.3010\n",
      "Epoch 50/50\n",
      " - 1s - loss: 1.7299 - acc: 0.4195 - val_loss: 2.0969 - val_acc: 0.3290\n"
     ]
    },
    {
     "data": {
      "text/plain": [
       "<keras.callbacks.History at 0x1839f21860>"
      ]
     },
     "execution_count": 29,
     "metadata": {},
     "output_type": "execute_result"
    }
   ],
   "source": [
    "model.fit(X_train, Y_train, epochs = 50, verbose = 2, validation_split=0.2)"
   ]
  },
  {
   "cell_type": "code",
   "execution_count": 30,
   "metadata": {},
   "outputs": [],
   "source": [
    "model_pred = model.predict_classes(X_test)"
   ]
  },
  {
   "cell_type": "code",
   "execution_count": 31,
   "metadata": {},
   "outputs": [
    {
     "name": "stdout",
     "output_type": "stream",
     "text": [
      "the accuracy model is= 0.3296\n"
     ]
    }
   ],
   "source": [
    "print('the accuracy model is=',(model_pred==y_test[:,0]).mean())"
   ]
  },
  {
   "cell_type": "markdown",
   "metadata": {},
   "source": [
    "# Exercise 08.2\n",
    "\n",
    "Train a Deep Neural Network with the following architecture:\n",
    "\n",
    "- Input = Image (32, 32, 3)\n",
    "- Conv2d(32, (3,3), padding='same')\n",
    "- Relu Activation\n",
    "- MaxPooling2D (2,2)\n",
    "- Dropout(0.5)\n",
    "- Flattern\n",
    "- Dense(10, Softmax)\n",
    "\n",
    "Optimized using rmsprop using as loss categorical_crossentropy\n",
    "\n",
    "Hints: \n",
    "- test with two iterations then try more. \n",
    "- learning can be ajusted\n",
    "\n",
    "Evaluate the performance using the testing set (aprox 55% with 50 epochs)"
   ]
  },
  {
   "cell_type": "markdown",
   "metadata": {},
   "source": [
    "The difference between this and the previous model are:\n",
    "\n",
    "1. We include a convolutional layer, this means we would like to focus on an specific patrons of the image, such as shapes, lines,  etc.\n",
    "2. Downsampling the images through the MaxPolling function.\n",
    "3. Dropout some of the neurons, in this case 50% of them, to avoid the overfitting in the model and increase the optimization rate"
   ]
  },
  {
   "cell_type": "code",
   "execution_count": 32,
   "metadata": {},
   "outputs": [],
   "source": [
    "model_1 = Sequential()\n",
    "model_1.add(Conv2D(32, (3, 3), padding='same', input_shape=(32,32,3)))\n",
    "model_1.add(Activation('relu'))\n",
    "model_1.add(MaxPooling2D(pool_size=(2, 2)))\n",
    "model_1.add(Dropout(0.5))\n",
    "model_1.add(Flatten())\n",
    "model_1.add(Dense(10))\n",
    "model_1.add(Activation('softmax'))"
   ]
  },
  {
   "cell_type": "code",
   "execution_count": 33,
   "metadata": {},
   "outputs": [],
   "source": [
    "model_1.compile(loss='categorical_crossentropy',\n",
    "              optimizer='rmsprop',\n",
    "              metrics=['accuracy'])"
   ]
  },
  {
   "cell_type": "markdown",
   "metadata": {},
   "source": [
    "We can use the bath keyword to divide the number of iteration inside the NN, but it wouldn´t be neccesary because the training time it is not too long."
   ]
  },
  {
   "cell_type": "code",
   "execution_count": 34,
   "metadata": {},
   "outputs": [
    {
     "name": "stdout",
     "output_type": "stream",
     "text": [
      "Train on 8000 samples, validate on 2000 samples\n",
      "Epoch 1/50\n",
      " - 9s - loss: 1.8940 - acc: 0.3206 - val_loss: 1.7250 - val_acc: 0.3995\n",
      "Epoch 2/50\n",
      " - 8s - loss: 1.5868 - acc: 0.4441 - val_loss: 1.5300 - val_acc: 0.4720\n",
      "Epoch 3/50\n",
      " - 8s - loss: 1.4446 - acc: 0.4951 - val_loss: 1.4955 - val_acc: 0.4715\n",
      "Epoch 4/50\n",
      " - 8s - loss: 1.3627 - acc: 0.5259 - val_loss: 1.4024 - val_acc: 0.5070\n",
      "Epoch 5/50\n",
      " - 8s - loss: 1.2889 - acc: 0.5571 - val_loss: 1.4241 - val_acc: 0.5085\n",
      "Epoch 6/50\n",
      " - 8s - loss: 1.2401 - acc: 0.5724 - val_loss: 1.3393 - val_acc: 0.5265\n",
      "Epoch 7/50\n",
      " - 8s - loss: 1.1902 - acc: 0.5887 - val_loss: 1.3520 - val_acc: 0.5465\n",
      "Epoch 8/50\n",
      " - 8s - loss: 1.1592 - acc: 0.6031 - val_loss: 1.3301 - val_acc: 0.5325\n",
      "Epoch 9/50\n",
      " - 8s - loss: 1.1235 - acc: 0.6084 - val_loss: 1.3050 - val_acc: 0.5415\n",
      "Epoch 10/50\n",
      " - 8s - loss: 1.0978 - acc: 0.6217 - val_loss: 1.2976 - val_acc: 0.5695\n",
      "Epoch 11/50\n",
      " - 8s - loss: 1.0697 - acc: 0.6272 - val_loss: 1.2967 - val_acc: 0.5575\n",
      "Epoch 12/50\n",
      " - 8s - loss: 1.0467 - acc: 0.6389 - val_loss: 1.2926 - val_acc: 0.5690\n",
      "Epoch 13/50\n",
      " - 9s - loss: 1.0306 - acc: 0.6474 - val_loss: 1.2823 - val_acc: 0.5620\n",
      "Epoch 14/50\n",
      " - 9s - loss: 1.0114 - acc: 0.6490 - val_loss: 1.3666 - val_acc: 0.5275\n",
      "Epoch 15/50\n",
      " - 8s - loss: 0.9827 - acc: 0.6606 - val_loss: 1.2815 - val_acc: 0.5635\n",
      "Epoch 16/50\n",
      " - 8s - loss: 0.9691 - acc: 0.6627 - val_loss: 1.3595 - val_acc: 0.5505\n",
      "Epoch 17/50\n",
      " - 8s - loss: 0.9540 - acc: 0.6679 - val_loss: 1.3012 - val_acc: 0.5655\n",
      "Epoch 18/50\n",
      " - 8s - loss: 0.9401 - acc: 0.6746 - val_loss: 1.2937 - val_acc: 0.5655\n",
      "Epoch 19/50\n",
      " - 8s - loss: 0.9315 - acc: 0.6798 - val_loss: 1.2735 - val_acc: 0.5710\n",
      "Epoch 20/50\n",
      " - 8s - loss: 0.9161 - acc: 0.6869 - val_loss: 1.2852 - val_acc: 0.5785\n",
      "Epoch 21/50\n",
      " - 9s - loss: 0.9036 - acc: 0.6914 - val_loss: 1.2880 - val_acc: 0.5805\n",
      "Epoch 22/50\n",
      " - 8s - loss: 0.8957 - acc: 0.6831 - val_loss: 1.2596 - val_acc: 0.5795\n",
      "Epoch 23/50\n",
      " - 8s - loss: 0.8828 - acc: 0.6980 - val_loss: 1.3346 - val_acc: 0.5645\n",
      "Epoch 24/50\n",
      " - 8s - loss: 0.8673 - acc: 0.7044 - val_loss: 1.3024 - val_acc: 0.5755\n",
      "Epoch 25/50\n",
      " - 8s - loss: 0.8616 - acc: 0.7024 - val_loss: 1.3271 - val_acc: 0.5625\n",
      "Epoch 26/50\n",
      " - 8s - loss: 0.8383 - acc: 0.7155 - val_loss: 1.5056 - val_acc: 0.5105\n",
      "Epoch 27/50\n",
      " - 8s - loss: 0.8329 - acc: 0.7106 - val_loss: 1.3386 - val_acc: 0.5665\n",
      "Epoch 28/50\n",
      " - 8s - loss: 0.8281 - acc: 0.7126 - val_loss: 1.2939 - val_acc: 0.5720\n",
      "Epoch 29/50\n",
      " - 8s - loss: 0.8157 - acc: 0.7183 - val_loss: 1.3039 - val_acc: 0.5740\n",
      "Epoch 30/50\n",
      " - 8s - loss: 0.8051 - acc: 0.7211 - val_loss: 1.2810 - val_acc: 0.5845\n",
      "Epoch 31/50\n",
      " - 8s - loss: 0.8032 - acc: 0.7254 - val_loss: 1.3080 - val_acc: 0.5745\n",
      "Epoch 32/50\n",
      " - 8s - loss: 0.7907 - acc: 0.7270 - val_loss: 1.2985 - val_acc: 0.5810\n",
      "Epoch 33/50\n",
      " - 8s - loss: 0.7894 - acc: 0.7268 - val_loss: 1.3073 - val_acc: 0.5850\n",
      "Epoch 34/50\n",
      " - 8s - loss: 0.7842 - acc: 0.7315 - val_loss: 1.3223 - val_acc: 0.5770\n",
      "Epoch 35/50\n",
      " - 8s - loss: 0.7656 - acc: 0.7408 - val_loss: 1.3417 - val_acc: 0.5785\n",
      "Epoch 36/50\n",
      " - 8s - loss: 0.7754 - acc: 0.7351 - val_loss: 1.3066 - val_acc: 0.5815\n",
      "Epoch 37/50\n",
      " - 8s - loss: 0.7620 - acc: 0.7380 - val_loss: 1.3855 - val_acc: 0.5615\n",
      "Epoch 38/50\n",
      " - 8s - loss: 0.7659 - acc: 0.7308 - val_loss: 1.3597 - val_acc: 0.5690\n",
      "Epoch 39/50\n",
      " - 8s - loss: 0.7500 - acc: 0.7400 - val_loss: 1.3299 - val_acc: 0.5845\n",
      "Epoch 40/50\n",
      " - 8s - loss: 0.7321 - acc: 0.7457 - val_loss: 1.3552 - val_acc: 0.5740\n",
      "Epoch 41/50\n",
      " - 8s - loss: 0.7418 - acc: 0.7372 - val_loss: 1.3445 - val_acc: 0.5845\n",
      "Epoch 42/50\n",
      " - 8s - loss: 0.7401 - acc: 0.7455 - val_loss: 1.3320 - val_acc: 0.5890\n",
      "Epoch 43/50\n",
      " - 8s - loss: 0.7326 - acc: 0.7470 - val_loss: 1.3264 - val_acc: 0.5710\n",
      "Epoch 44/50\n",
      " - 8s - loss: 0.7342 - acc: 0.7471 - val_loss: 1.3968 - val_acc: 0.5750\n",
      "Epoch 45/50\n",
      " - 8s - loss: 0.7185 - acc: 0.7521 - val_loss: 1.4511 - val_acc: 0.5605\n",
      "Epoch 46/50\n",
      " - 9s - loss: 0.7085 - acc: 0.7510 - val_loss: 1.3272 - val_acc: 0.5910\n",
      "Epoch 47/50\n",
      " - 8s - loss: 0.7114 - acc: 0.7515 - val_loss: 1.3502 - val_acc: 0.5740\n",
      "Epoch 48/50\n",
      " - 8s - loss: 0.7046 - acc: 0.7590 - val_loss: 1.3752 - val_acc: 0.5720\n",
      "Epoch 49/50\n",
      " - 8s - loss: 0.7194 - acc: 0.7501 - val_loss: 1.3551 - val_acc: 0.5760\n",
      "Epoch 50/50\n",
      " - 8s - loss: 0.6995 - acc: 0.7596 - val_loss: 1.4126 - val_acc: 0.5725\n"
     ]
    },
    {
     "data": {
      "text/plain": [
       "<keras.callbacks.History at 0x183a15a7b8>"
      ]
     },
     "execution_count": 34,
     "metadata": {},
     "output_type": "execute_result"
    }
   ],
   "source": [
    "model_1.fit(X_train, Y_train, epochs = 50, verbose = 2, validation_split=0.2)"
   ]
  },
  {
   "cell_type": "code",
   "execution_count": 35,
   "metadata": {},
   "outputs": [],
   "source": [
    "model_pred_1 = model_1.predict_classes(X_test)"
   ]
  },
  {
   "cell_type": "markdown",
   "metadata": {},
   "source": [
    "We predict over the y_test in not capital letters, because this variable contains the class which each prediction belongs to"
   ]
  },
  {
   "cell_type": "code",
   "execution_count": 36,
   "metadata": {},
   "outputs": [
    {
     "name": "stdout",
     "output_type": "stream",
     "text": [
      "the prediction model is= 0.5699\n"
     ]
    }
   ],
   "source": [
    "print('the prediction model is=',(model_pred_1==y_test[:,0]).mean())"
   ]
  },
  {
   "cell_type": "markdown",
   "metadata": {},
   "source": [
    "# Exercise 08.3\n",
    "\n",
    "Use the last layer of VGG16 as the input to a neural network with softmax output\n",
    "\n",
    "- Input = Image (32, 32, 3)\n",
    "- VGG16 \n",
    "- Flattern\n",
    "- Dense(512, Softmax)\n",
    "- Dropout(0.5)\n",
    "- Dense(10, Softmax)\n",
    "\n",
    "Optimized using rmsprop using as loss categorical_crossentropy\n",
    "\n",
    "Hints: \n",
    "- test with two iterations then try more. \n",
    "- learning can be ajusted\n",
    "\n",
    "Evaluate the performance using the testing set (aprox 57% with 50 epochs)"
   ]
  },
  {
   "cell_type": "code",
   "execution_count": 37,
   "metadata": {},
   "outputs": [],
   "source": [
    "from keras.applications.vgg16 import VGG16\n",
    "model_vgg16 = VGG16(weights='imagenet', include_top=False)"
   ]
  },
  {
   "cell_type": "markdown",
   "metadata": {},
   "source": [
    "Know, we will use a pre-trained model to predict the 10 classes of this excercise, there are many of them but we will work with VGG16"
   ]
  },
  {
   "cell_type": "code",
   "execution_count": 38,
   "metadata": {},
   "outputs": [],
   "source": [
    "x_train_pre=model_vgg16.predict(X_train)"
   ]
  },
  {
   "cell_type": "code",
   "execution_count": 39,
   "metadata": {},
   "outputs": [
    {
     "data": {
      "text/plain": [
       "(10000, 1, 1, 512)"
      ]
     },
     "execution_count": 39,
     "metadata": {},
     "output_type": "execute_result"
    }
   ],
   "source": [
    "x_train_pre.shape"
   ]
  },
  {
   "cell_type": "markdown",
   "metadata": {},
   "source": [
    "In this excercise we got an array of (10000, 1, 1, 512) so that means that we have 10 thousand observations with a shape of 1,1,512, so this last parameters will be the input of our next neural network."
   ]
  },
  {
   "cell_type": "code",
   "execution_count": 40,
   "metadata": {},
   "outputs": [],
   "source": [
    "model_3 = Sequential()\n",
    "model_3.add(Flatten(input_shape=(1,1,512)))\n",
    "model_3.add(Dense(512, activation = 'relu'))\n",
    "model_3.add(Dropout(0.5))\n",
    "model_3.add(Dense(10, activation = 'softmax'))"
   ]
  },
  {
   "cell_type": "code",
   "execution_count": 41,
   "metadata": {},
   "outputs": [],
   "source": [
    "model_3.compile(loss='categorical_crossentropy',\n",
    "              optimizer='rmsprop',\n",
    "              metrics=['accuracy'])"
   ]
  },
  {
   "cell_type": "code",
   "execution_count": 42,
   "metadata": {},
   "outputs": [
    {
     "name": "stdout",
     "output_type": "stream",
     "text": [
      "Epoch 1/50\n",
      " - 2s - loss: 1.6704 - acc: 0.4126\n",
      "Epoch 2/50\n",
      " - 2s - loss: 1.4058 - acc: 0.5109\n",
      "Epoch 3/50\n",
      " - 2s - loss: 1.3200 - acc: 0.5371\n",
      "Epoch 4/50\n",
      " - 2s - loss: 1.2605 - acc: 0.5586\n",
      "Epoch 5/50\n",
      " - 2s - loss: 1.2211 - acc: 0.5767\n",
      "Epoch 6/50\n",
      " - 2s - loss: 1.1903 - acc: 0.5846\n",
      "Epoch 7/50\n",
      " - 2s - loss: 1.1553 - acc: 0.5955\n",
      "Epoch 8/50\n",
      " - 2s - loss: 1.1329 - acc: 0.6029\n",
      "Epoch 9/50\n",
      " - 2s - loss: 1.1053 - acc: 0.6164\n",
      "Epoch 10/50\n",
      " - 2s - loss: 1.0813 - acc: 0.6227\n",
      "Epoch 11/50\n",
      " - 2s - loss: 1.0610 - acc: 0.6306\n",
      "Epoch 12/50\n",
      " - 2s - loss: 1.0467 - acc: 0.6408\n",
      "Epoch 13/50\n",
      " - 2s - loss: 1.0202 - acc: 0.6492\n",
      "Epoch 14/50\n",
      " - 2s - loss: 0.9990 - acc: 0.6561\n",
      "Epoch 15/50\n",
      " - 2s - loss: 0.9869 - acc: 0.6613\n",
      "Epoch 16/50\n",
      " - 2s - loss: 0.9579 - acc: 0.6634\n",
      "Epoch 17/50\n",
      " - 2s - loss: 0.9608 - acc: 0.6719\n",
      "Epoch 18/50\n",
      " - 2s - loss: 0.9338 - acc: 0.6780\n",
      "Epoch 19/50\n",
      " - 2s - loss: 0.9168 - acc: 0.6842\n",
      "Epoch 20/50\n",
      " - 2s - loss: 0.9109 - acc: 0.6811\n",
      "Epoch 21/50\n",
      " - 2s - loss: 0.8898 - acc: 0.6968\n",
      "Epoch 22/50\n",
      " - 2s - loss: 0.8808 - acc: 0.6950\n",
      "Epoch 23/50\n",
      " - 2s - loss: 0.8703 - acc: 0.7016\n",
      "Epoch 24/50\n",
      " - 2s - loss: 0.8579 - acc: 0.7064\n",
      "Epoch 25/50\n",
      " - 2s - loss: 0.8352 - acc: 0.7163\n",
      "Epoch 26/50\n",
      " - 2s - loss: 0.8203 - acc: 0.7171\n",
      "Epoch 27/50\n",
      " - 2s - loss: 0.8133 - acc: 0.7259\n",
      "Epoch 28/50\n",
      " - 2s - loss: 0.7928 - acc: 0.7291\n",
      "Epoch 29/50\n",
      " - 2s - loss: 0.7897 - acc: 0.7292\n",
      "Epoch 30/50\n",
      " - 2s - loss: 0.7600 - acc: 0.7393\n",
      "Epoch 31/50\n",
      " - 2s - loss: 0.7667 - acc: 0.7444\n",
      "Epoch 32/50\n",
      " - 2s - loss: 0.7490 - acc: 0.7429\n",
      "Epoch 33/50\n",
      " - 2s - loss: 0.7438 - acc: 0.7513\n",
      "Epoch 34/50\n",
      " - 2s - loss: 0.7417 - acc: 0.7515\n",
      "Epoch 35/50\n",
      " - 2s - loss: 0.7199 - acc: 0.7556\n",
      "Epoch 36/50\n",
      " - 2s - loss: 0.7204 - acc: 0.7580\n",
      "Epoch 37/50\n",
      " - 2s - loss: 0.7082 - acc: 0.7641\n",
      "Epoch 38/50\n",
      " - 2s - loss: 0.6825 - acc: 0.7718\n",
      "Epoch 39/50\n",
      " - 2s - loss: 0.6984 - acc: 0.7658\n",
      "Epoch 40/50\n",
      " - 2s - loss: 0.6784 - acc: 0.7746\n",
      "Epoch 41/50\n",
      " - 2s - loss: 0.6583 - acc: 0.7759\n",
      "Epoch 42/50\n",
      " - 2s - loss: 0.6772 - acc: 0.7708\n",
      "Epoch 43/50\n",
      " - 2s - loss: 0.6489 - acc: 0.7832\n",
      "Epoch 44/50\n",
      " - 2s - loss: 0.6463 - acc: 0.7840\n",
      "Epoch 45/50\n",
      " - 2s - loss: 0.6345 - acc: 0.7912\n",
      "Epoch 46/50\n",
      " - 2s - loss: 0.6294 - acc: 0.7945\n",
      "Epoch 47/50\n",
      " - 2s - loss: 0.6242 - acc: 0.7910\n",
      "Epoch 48/50\n",
      " - 2s - loss: 0.6266 - acc: 0.7932\n",
      "Epoch 49/50\n",
      " - 2s - loss: 0.6063 - acc: 0.7985\n",
      "Epoch 50/50\n",
      " - 2s - loss: 0.6068 - acc: 0.7970\n"
     ]
    },
    {
     "data": {
      "text/plain": [
       "<keras.callbacks.History at 0x10a54d080>"
      ]
     },
     "execution_count": 42,
     "metadata": {},
     "output_type": "execute_result"
    }
   ],
   "source": [
    "model_3.fit(x_train_pre, Y_train, epochs = 50, verbose = 2)"
   ]
  },
  {
   "cell_type": "code",
   "execution_count": 43,
   "metadata": {},
   "outputs": [],
   "source": [
    "x_test_pre=model_vgg16.predict(X_test)"
   ]
  },
  {
   "cell_type": "code",
   "execution_count": 44,
   "metadata": {},
   "outputs": [],
   "source": [
    "model_pred_3 = model_3.predict_classes(x_test_pre)"
   ]
  },
  {
   "cell_type": "code",
   "execution_count": 45,
   "metadata": {},
   "outputs": [
    {
     "name": "stdout",
     "output_type": "stream",
     "text": [
      "the prediction model is= 0.5758\n"
     ]
    }
   ],
   "source": [
    "print('the prediction model is=',(model_pred_3==y_test[:,0]).mean())"
   ]
  },
  {
   "cell_type": "markdown",
   "metadata": {},
   "source": [
    "# Exercise *08.4 (Bonus)\n",
    "\n",
    "Test a different pre-train algorithm (https://keras.io/applications/#usage-examples-for-image-classification-models) "
   ]
  },
  {
   "cell_type": "markdown",
   "metadata": {},
   "source": [
    "For this excercise we will use the ResNet50 algorithm,"
   ]
  },
  {
   "cell_type": "code",
   "execution_count": 46,
   "metadata": {},
   "outputs": [],
   "source": [
    "from keras.applications.resnet50 import ResNet50\n",
    "model_Res_Net = ResNet50(weights='imagenet', include_top=False)"
   ]
  },
  {
   "cell_type": "code",
   "execution_count": 47,
   "metadata": {},
   "outputs": [],
   "source": [
    "x_train_Res_Net=model_Res_Net.predict(X_train)"
   ]
  },
  {
   "cell_type": "code",
   "execution_count": 48,
   "metadata": {},
   "outputs": [
    {
     "data": {
      "text/plain": [
       "(10000, 1, 1, 2048)"
      ]
     },
     "execution_count": 48,
     "metadata": {},
     "output_type": "execute_result"
    }
   ],
   "source": [
    "x_train_Res_Net.shape"
   ]
  },
  {
   "cell_type": "markdown",
   "metadata": {},
   "source": [
    "Once we predict the new X variable, we got an array of (10000, 1, 1, 2048), so as we did before, the last three numbers we will used as the input shape of the new array"
   ]
  },
  {
   "cell_type": "code",
   "execution_count": 49,
   "metadata": {},
   "outputs": [],
   "source": [
    "model_4 = Sequential()\n",
    "model_4.add(Flatten(input_shape=(1,1,2048)))\n",
    "model_4.add(Dense(512, activation = 'relu'))\n",
    "model_4.add(Dropout(0.5))\n",
    "model_4.add(Dense(10, activation = 'softmax'))"
   ]
  },
  {
   "cell_type": "code",
   "execution_count": 50,
   "metadata": {},
   "outputs": [],
   "source": [
    "model_4.compile(loss='categorical_crossentropy',\n",
    "              optimizer='rmsprop',\n",
    "              metrics=['accuracy'])"
   ]
  },
  {
   "cell_type": "code",
   "execution_count": 51,
   "metadata": {},
   "outputs": [
    {
     "name": "stdout",
     "output_type": "stream",
     "text": [
      "_________________________________________________________________\n",
      "Layer (type)                 Output Shape              Param #   \n",
      "=================================================================\n",
      "flatten_6 (Flatten)          (None, 2048)              0         \n",
      "_________________________________________________________________\n",
      "dense_7 (Dense)              (None, 512)               1049088   \n",
      "_________________________________________________________________\n",
      "dropout_3 (Dropout)          (None, 512)               0         \n",
      "_________________________________________________________________\n",
      "dense_8 (Dense)              (None, 10)                5130      \n",
      "=================================================================\n",
      "Total params: 1,054,218\n",
      "Trainable params: 1,054,218\n",
      "Non-trainable params: 0\n",
      "_________________________________________________________________\n"
     ]
    }
   ],
   "source": [
    "model_4.summary()"
   ]
  },
  {
   "cell_type": "code",
   "execution_count": 52,
   "metadata": {},
   "outputs": [
    {
     "name": "stdout",
     "output_type": "stream",
     "text": [
      "Epoch 1/50\n",
      " - 8s - loss: 2.3267 - acc: 0.1352\n",
      "Epoch 2/50\n",
      " - 7s - loss: 2.1741 - acc: 0.1957\n",
      "Epoch 3/50\n",
      " - 7s - loss: 2.1057 - acc: 0.2249\n",
      "Epoch 4/50\n",
      " - 6s - loss: 2.0681 - acc: 0.2404\n",
      "Epoch 5/50\n",
      " - 6s - loss: 2.0425 - acc: 0.2504\n",
      "Epoch 6/50\n",
      " - 6s - loss: 2.0208 - acc: 0.2580\n",
      "Epoch 7/50\n",
      " - 6s - loss: 2.0013 - acc: 0.2674\n",
      "Epoch 8/50\n",
      " - 6s - loss: 2.0033 - acc: 0.2641\n",
      "Epoch 9/50\n",
      " - 6s - loss: 1.9862 - acc: 0.2691\n",
      "Epoch 10/50\n",
      " - 6s - loss: 1.9745 - acc: 0.2675\n",
      "Epoch 11/50\n",
      " - 6s - loss: 1.9683 - acc: 0.2832\n",
      "Epoch 12/50\n",
      " - 6s - loss: 1.9706 - acc: 0.2756\n",
      "Epoch 13/50\n",
      " - 6s - loss: 1.9595 - acc: 0.2823\n",
      "Epoch 14/50\n",
      " - 6s - loss: 1.9620 - acc: 0.2839\n",
      "Epoch 15/50\n",
      " - 6s - loss: 1.9452 - acc: 0.2888\n",
      "Epoch 16/50\n",
      " - 6s - loss: 1.9502 - acc: 0.2917\n",
      "Epoch 17/50\n",
      " - 6s - loss: 1.9526 - acc: 0.2852\n",
      "Epoch 18/50\n",
      " - 6s - loss: 1.9386 - acc: 0.2876\n",
      "Epoch 19/50\n",
      " - 6s - loss: 1.9314 - acc: 0.2919\n",
      "Epoch 20/50\n",
      " - 6s - loss: 1.9345 - acc: 0.2963\n",
      "Epoch 21/50\n",
      " - 6s - loss: 1.9294 - acc: 0.2874\n",
      "Epoch 22/50\n",
      " - 6s - loss: 1.9273 - acc: 0.3008\n",
      "Epoch 23/50\n",
      " - 6s - loss: 1.9283 - acc: 0.3011\n",
      "Epoch 24/50\n",
      " - 6s - loss: 1.9296 - acc: 0.3003\n",
      "Epoch 25/50\n",
      " - 6s - loss: 1.9242 - acc: 0.2997\n",
      "Epoch 26/50\n",
      " - 6s - loss: 1.9222 - acc: 0.2963\n",
      "Epoch 27/50\n",
      " - 6s - loss: 1.9300 - acc: 0.2999\n",
      "Epoch 28/50\n",
      " - 6s - loss: 1.9188 - acc: 0.2957\n",
      "Epoch 29/50\n",
      " - 6s - loss: 1.9233 - acc: 0.2954\n",
      "Epoch 30/50\n",
      " - 6s - loss: 1.9156 - acc: 0.3011\n",
      "Epoch 31/50\n",
      " - 6s - loss: 1.9219 - acc: 0.2969\n",
      "Epoch 32/50\n",
      " - 6s - loss: 1.9120 - acc: 0.3089\n",
      "Epoch 33/50\n",
      " - 6s - loss: 1.9087 - acc: 0.3031\n",
      "Epoch 34/50\n",
      " - 6s - loss: 1.9122 - acc: 0.3107\n",
      "Epoch 35/50\n",
      " - 6s - loss: 1.9202 - acc: 0.3036\n",
      "Epoch 36/50\n",
      " - 6s - loss: 1.9120 - acc: 0.3067\n",
      "Epoch 37/50\n",
      " - 6s - loss: 1.9084 - acc: 0.3112\n",
      "Epoch 38/50\n",
      " - 7s - loss: 1.9130 - acc: 0.3013\n",
      "Epoch 39/50\n",
      " - 6s - loss: 1.9046 - acc: 0.3030\n",
      "Epoch 40/50\n",
      " - 6s - loss: 1.9142 - acc: 0.3075\n",
      "Epoch 41/50\n",
      " - 6s - loss: 1.9088 - acc: 0.3035\n",
      "Epoch 42/50\n",
      " - 6s - loss: 1.9065 - acc: 0.3074\n",
      "Epoch 43/50\n",
      " - 6s - loss: 1.9089 - acc: 0.3049\n",
      "Epoch 44/50\n",
      " - 6s - loss: 1.9120 - acc: 0.3048\n",
      "Epoch 45/50\n",
      " - 6s - loss: 1.9033 - acc: 0.3084\n",
      "Epoch 46/50\n",
      " - 6s - loss: 1.9096 - acc: 0.3061\n",
      "Epoch 47/50\n",
      " - 6s - loss: 1.9041 - acc: 0.3059\n",
      "Epoch 48/50\n",
      " - 7s - loss: 1.8953 - acc: 0.3087\n",
      "Epoch 49/50\n",
      " - 6s - loss: 1.9027 - acc: 0.3058\n",
      "Epoch 50/50\n",
      " - 6s - loss: 1.9068 - acc: 0.3009\n"
     ]
    },
    {
     "data": {
      "text/plain": [
       "<keras.callbacks.History at 0x1849edd4e0>"
      ]
     },
     "execution_count": 52,
     "metadata": {},
     "output_type": "execute_result"
    }
   ],
   "source": [
    "model_4.fit(x_train_Res_Net, Y_train, epochs = 50, verbose = 2)"
   ]
  },
  {
   "cell_type": "code",
   "execution_count": 53,
   "metadata": {},
   "outputs": [],
   "source": [
    "x_test_ResN=model_Res_Net.predict(X_test)"
   ]
  },
  {
   "cell_type": "code",
   "execution_count": 54,
   "metadata": {},
   "outputs": [],
   "source": [
    "model_pred_4 = model_4.predict_classes(x_test_ResN)"
   ]
  },
  {
   "cell_type": "code",
   "execution_count": 55,
   "metadata": {},
   "outputs": [
    {
     "name": "stdout",
     "output_type": "stream",
     "text": [
      "the prediction model is= 0.2977\n"
     ]
    }
   ],
   "source": [
    "print('the prediction model is=',(model_pred_4==y_test[:,0]).mean())"
   ]
  },
  {
   "cell_type": "markdown",
   "metadata": {},
   "source": [
    "The final results are showed below, so we can see that the best model it is the third one, VGG16 pre-trained model and the worse one was the model without dense layers."
   ]
  },
  {
   "cell_type": "code",
   "execution_count": 56,
   "metadata": {},
   "outputs": [
    {
     "data": {
      "image/png": "[encoded data removed]",
      "text/plain": [
       "<matplotlib.figure.Figure at 0x109ee2828>"
      ]
     },
     "metadata": {},
     "output_type": "display_data"
    }
   ],
   "source": [
    "import matplotlib.pyplot as plt\n",
    "plt.figure(figsize=(12,6))\n",
    "plt.bar([\"Exc 1\",\"Exc 2\",\"Exc 3\",\"Exc 4\"],[0.3296,0.5693,0.5758,0.337],color=\"orange\",align='center')\n",
    "plt.title(\"Comparison of kernel Initializer\")\n",
    "plt.xlabel(\"\",fontsize=12)\n",
    "plt.ylabel(\"Accuracy\")\n",
    "plt.show()"
   ]
  }
 ],
 "metadata": {
  "kernelspec": {
   "display_name": "Python 3",
   "language": "python",
   "name": "python3"
  },
  "language_info": {
   "codemirror_mode": {
    "name": "ipython",
    "version": 3
   },
   "file_extension": ".py",
   "mimetype": "text/x-python",
   "name": "python",
   "nbconvert_exporter": "python",
   "pygments_lexer": "ipython3",
   "version": "3.6.3"
  }
 },
 "nbformat": 4,
 "nbformat_minor": 2
}
