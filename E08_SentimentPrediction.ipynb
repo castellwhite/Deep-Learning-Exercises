{
  "nbformat": 4,
  "nbformat_minor": 0,
  "metadata": {
    "colab": {
      "name": "E08-SentimentPrediction.ipynb",
      "version": "0.3.2",
      "views": {},
      "default_view": {},
      "provenance": []
    },
    "kernelspec": {
      "display_name": "Python 3",
      "language": "python",
      "name": "python3"
    }
  },
  "cells": [
    {
      "metadata": {
        "id": "aog2MshfrKKq",
        "colab_type": "text"
      },
      "cell_type": "markdown",
      "source": [
        "\n",
        "# Deep Learning Course\n",
        "\n",
        " <img src=\"https://d2h0cx97tjks2p.cloudfront.net/blogs/wp-content/uploads/Natural-Language-Processing.jpg\" >\n",
        "\n",
        "\n",
        "# Deep Learning Excercise 08\n",
        "## Analyze how travelers expressed their feelings on Twitter\n",
        "\n",
        "\n",
        "Developed by [Sergio Castelblanco](http://www.linkedin.com/in/sergio-castelblanco/) - [Jhon Gonzalez](http://linkedin.com/in/jhon-franklin-gonzalez-gamboa-b6123230/)\n",
        "\n",
        "Andes University\n",
        "\n",
        "version 2.0, July 18 2018"
      ]
    },
    {
      "metadata": {
        "id": "LqX4zdJ4rKKr",
        "colab_type": "text"
      },
      "cell_type": "markdown",
      "source": [
        "A sentiment analysis job about the problems of each major U.S. airline. \n",
        "Twitter data was scraped from February of 2015 and contributors were \n",
        "asked to first classify positive, negative, and neutral tweets, followed\n",
        "by categorizing negative reasons (such as \"late flight\" or \"rude service\")."
      ]
    },
    {
      "metadata": {
        "id": "CXugBIpUrKKr",
        "colab_type": "text"
      },
      "cell_type": "markdown",
      "source": [
        "Our target is to classify a feeling tweet message feelings into three possible categories:\n",
        "\n",
        "* Positive\n",
        "* Neural\n",
        "* Negative\n",
        "\n",
        "We will divide the dataset into train and test and we will recognize the testing tweet feelings\n"
      ]
    },
    {
      "metadata": {
        "id": "EyNHGVLNrKKs",
        "colab_type": "code",
        "colab": {
          "autoexec": {
            "startup": false,
            "wait_interval": 0
          }
        },
        "outputId": "90910724-2fb3-41a5-ec87-554ab87cfe00"
      },
      "cell_type": "code",
      "source": [
        "import pandas as pd\n",
        "import numpy as np\n",
        "\n",
        "%matplotlib inline\n",
        "import matplotlib.pyplot as plt\n",
        "\n",
        "# read the data and set the datetime as the index\n",
        "import zipfile\n",
        "with zipfile.ZipFile('../datasets/Tweets.zip', 'r') as z:\n",
        "    f = z.open('Tweets.csv')\n",
        "    tweets = pd.read_csv(f, index_col=0)\n",
        "\n",
        "tweets.head()"
      ],
      "execution_count": 0,
      "outputs": [
        {
          "output_type": "execute_result",
          "data": {
            "text/html": [
              "<div>\n",
              "<style>\n",
              "    .dataframe thead tr:only-child th {\n",
              "        text-align: right;\n",
              "    }\n",
              "\n",
              "    .dataframe thead th {\n",
              "        text-align: left;\n",
              "    }\n",
              "\n",
              "    .dataframe tbody tr th {\n",
              "        vertical-align: top;\n",
              "    }\n",
              "</style>\n",
              "<table border=\"1\" class=\"dataframe\">\n",
              "  <thead>\n",
              "    <tr style=\"text-align: right;\">\n",
              "      <th></th>\n",
              "      <th>airline_sentiment</th>\n",
              "      <th>airline_sentiment_confidence</th>\n",
              "      <th>negativereason</th>\n",
              "      <th>negativereason_confidence</th>\n",
              "      <th>airline</th>\n",
              "      <th>airline_sentiment_gold</th>\n",
              "      <th>name</th>\n",
              "      <th>negativereason_gold</th>\n",
              "      <th>retweet_count</th>\n",
              "      <th>text</th>\n",
              "      <th>tweet_coord</th>\n",
              "      <th>tweet_created</th>\n",
              "      <th>tweet_location</th>\n",
              "      <th>user_timezone</th>\n",
              "    </tr>\n",
              "    <tr>\n",
              "      <th>tweet_id</th>\n",
              "      <th></th>\n",
              "      <th></th>\n",
              "      <th></th>\n",
              "      <th></th>\n",
              "      <th></th>\n",
              "      <th></th>\n",
              "      <th></th>\n",
              "      <th></th>\n",
              "      <th></th>\n",
              "      <th></th>\n",
              "      <th></th>\n",
              "      <th></th>\n",
              "      <th></th>\n",
              "      <th></th>\n",
              "    </tr>\n",
              "  </thead>\n",
              "  <tbody>\n",
              "    <tr>\n",
              "      <th>570306133677760513</th>\n",
              "      <td>neutral</td>\n",
              "      <td>1.0000</td>\n",
              "      <td>NaN</td>\n",
              "      <td>NaN</td>\n",
              "      <td>Virgin America</td>\n",
              "      <td>NaN</td>\n",
              "      <td>cairdin</td>\n",
              "      <td>NaN</td>\n",
              "      <td>0</td>\n",
              "      <td>@VirginAmerica What @dhepburn said.</td>\n",
              "      <td>NaN</td>\n",
              "      <td>2015-02-24 11:35:52 -0800</td>\n",
              "      <td>NaN</td>\n",
              "      <td>Eastern Time (US &amp; Canada)</td>\n",
              "    </tr>\n",
              "    <tr>\n",
              "      <th>570301130888122368</th>\n",
              "      <td>positive</td>\n",
              "      <td>0.3486</td>\n",
              "      <td>NaN</td>\n",
              "      <td>0.0000</td>\n",
              "      <td>Virgin America</td>\n",
              "      <td>NaN</td>\n",
              "      <td>jnardino</td>\n",
              "      <td>NaN</td>\n",
              "      <td>0</td>\n",
              "      <td>@VirginAmerica plus you've added commercials t...</td>\n",
              "      <td>NaN</td>\n",
              "      <td>2015-02-24 11:15:59 -0800</td>\n",
              "      <td>NaN</td>\n",
              "      <td>Pacific Time (US &amp; Canada)</td>\n",
              "    </tr>\n",
              "    <tr>\n",
              "      <th>570301083672813571</th>\n",
              "      <td>neutral</td>\n",
              "      <td>0.6837</td>\n",
              "      <td>NaN</td>\n",
              "      <td>NaN</td>\n",
              "      <td>Virgin America</td>\n",
              "      <td>NaN</td>\n",
              "      <td>yvonnalynn</td>\n",
              "      <td>NaN</td>\n",
              "      <td>0</td>\n",
              "      <td>@VirginAmerica I didn't today... Must mean I n...</td>\n",
              "      <td>NaN</td>\n",
              "      <td>2015-02-24 11:15:48 -0800</td>\n",
              "      <td>Lets Play</td>\n",
              "      <td>Central Time (US &amp; Canada)</td>\n",
              "    </tr>\n",
              "    <tr>\n",
              "      <th>570301031407624196</th>\n",
              "      <td>negative</td>\n",
              "      <td>1.0000</td>\n",
              "      <td>Bad Flight</td>\n",
              "      <td>0.7033</td>\n",
              "      <td>Virgin America</td>\n",
              "      <td>NaN</td>\n",
              "      <td>jnardino</td>\n",
              "      <td>NaN</td>\n",
              "      <td>0</td>\n",
              "      <td>@VirginAmerica it's really aggressive to blast...</td>\n",
              "      <td>NaN</td>\n",
              "      <td>2015-02-24 11:15:36 -0800</td>\n",
              "      <td>NaN</td>\n",
              "      <td>Pacific Time (US &amp; Canada)</td>\n",
              "    </tr>\n",
              "    <tr>\n",
              "      <th>570300817074462722</th>\n",
              "      <td>negative</td>\n",
              "      <td>1.0000</td>\n",
              "      <td>Can't Tell</td>\n",
              "      <td>1.0000</td>\n",
              "      <td>Virgin America</td>\n",
              "      <td>NaN</td>\n",
              "      <td>jnardino</td>\n",
              "      <td>NaN</td>\n",
              "      <td>0</td>\n",
              "      <td>@VirginAmerica and it's a really big bad thing...</td>\n",
              "      <td>NaN</td>\n",
              "      <td>2015-02-24 11:14:45 -0800</td>\n",
              "      <td>NaN</td>\n",
              "      <td>Pacific Time (US &amp; Canada)</td>\n",
              "    </tr>\n",
              "  </tbody>\n",
              "</table>\n",
              "</div>"
            ],
            "text/plain": [
              "                   airline_sentiment  airline_sentiment_confidence  \\\n",
              "tweet_id                                                             \n",
              "570306133677760513           neutral                        1.0000   \n",
              "570301130888122368          positive                        0.3486   \n",
              "570301083672813571           neutral                        0.6837   \n",
              "570301031407624196          negative                        1.0000   \n",
              "570300817074462722          negative                        1.0000   \n",
              "\n",
              "                   negativereason  negativereason_confidence         airline  \\\n",
              "tweet_id                                                                       \n",
              "570306133677760513            NaN                        NaN  Virgin America   \n",
              "570301130888122368            NaN                     0.0000  Virgin America   \n",
              "570301083672813571            NaN                        NaN  Virgin America   \n",
              "570301031407624196     Bad Flight                     0.7033  Virgin America   \n",
              "570300817074462722     Can't Tell                     1.0000  Virgin America   \n",
              "\n",
              "                   airline_sentiment_gold        name negativereason_gold  \\\n",
              "tweet_id                                                                    \n",
              "570306133677760513                    NaN     cairdin                 NaN   \n",
              "570301130888122368                    NaN    jnardino                 NaN   \n",
              "570301083672813571                    NaN  yvonnalynn                 NaN   \n",
              "570301031407624196                    NaN    jnardino                 NaN   \n",
              "570300817074462722                    NaN    jnardino                 NaN   \n",
              "\n",
              "                    retweet_count  \\\n",
              "tweet_id                            \n",
              "570306133677760513              0   \n",
              "570301130888122368              0   \n",
              "570301083672813571              0   \n",
              "570301031407624196              0   \n",
              "570300817074462722              0   \n",
              "\n",
              "                                                                 text  \\\n",
              "tweet_id                                                                \n",
              "570306133677760513                @VirginAmerica What @dhepburn said.   \n",
              "570301130888122368  @VirginAmerica plus you've added commercials t...   \n",
              "570301083672813571  @VirginAmerica I didn't today... Must mean I n...   \n",
              "570301031407624196  @VirginAmerica it's really aggressive to blast...   \n",
              "570300817074462722  @VirginAmerica and it's a really big bad thing...   \n",
              "\n",
              "                   tweet_coord              tweet_created tweet_location  \\\n",
              "tweet_id                                                                   \n",
              "570306133677760513         NaN  2015-02-24 11:35:52 -0800            NaN   \n",
              "570301130888122368         NaN  2015-02-24 11:15:59 -0800            NaN   \n",
              "570301083672813571         NaN  2015-02-24 11:15:48 -0800      Lets Play   \n",
              "570301031407624196         NaN  2015-02-24 11:15:36 -0800            NaN   \n",
              "570300817074462722         NaN  2015-02-24 11:14:45 -0800            NaN   \n",
              "\n",
              "                                 user_timezone  \n",
              "tweet_id                                        \n",
              "570306133677760513  Eastern Time (US & Canada)  \n",
              "570301130888122368  Pacific Time (US & Canada)  \n",
              "570301083672813571  Central Time (US & Canada)  \n",
              "570301031407624196  Pacific Time (US & Canada)  \n",
              "570300817074462722  Pacific Time (US & Canada)  "
            ]
          },
          "metadata": {
            "tags": []
          },
          "execution_count": 2
        }
      ]
    },
    {
      "metadata": {
        "id": "IUxremfBrKKx",
        "colab_type": "code",
        "colab": {
          "autoexec": {
            "startup": false,
            "wait_interval": 0
          }
        },
        "outputId": "11b0c938-6537-4c34-cbc0-375245a36d63"
      },
      "cell_type": "code",
      "source": [
        "tweets.shape"
      ],
      "execution_count": 0,
      "outputs": [
        {
          "output_type": "execute_result",
          "data": {
            "text/plain": [
              "(14640, 14)"
            ]
          },
          "metadata": {
            "tags": []
          },
          "execution_count": 3
        }
      ]
    },
    {
      "metadata": {
        "id": "0e2UUW2KrKK0",
        "colab_type": "text"
      },
      "cell_type": "markdown",
      "source": [
        "### Proportion of tweets with each sentiment"
      ]
    },
    {
      "metadata": {
        "id": "gr2H2taQrKK0",
        "colab_type": "code",
        "colab": {
          "autoexec": {
            "startup": false,
            "wait_interval": 0
          }
        },
        "outputId": "cd638f28-f385-4824-d460-92953fb224d0"
      },
      "cell_type": "code",
      "source": [
        "tweets['airline_sentiment'].value_counts()"
      ],
      "execution_count": 0,
      "outputs": [
        {
          "output_type": "execute_result",
          "data": {
            "text/plain": [
              "negative    9178\n",
              "neutral     3099\n",
              "positive    2363\n",
              "Name: airline_sentiment, dtype: int64"
            ]
          },
          "metadata": {
            "tags": []
          },
          "execution_count": 4
        }
      ]
    },
    {
      "metadata": {
        "id": "N5-2mUxwrKK2",
        "colab_type": "text"
      },
      "cell_type": "markdown",
      "source": [
        "### Proportion of tweets per airline\n"
      ]
    },
    {
      "metadata": {
        "id": "wF7xgO72rKK3",
        "colab_type": "code",
        "colab": {
          "autoexec": {
            "startup": false,
            "wait_interval": 0
          }
        },
        "outputId": "5d676dab-9eb4-41f1-b7af-5842f41ea11f"
      },
      "cell_type": "code",
      "source": [
        "tweets['airline'].value_counts()"
      ],
      "execution_count": 0,
      "outputs": [
        {
          "output_type": "execute_result",
          "data": {
            "text/plain": [
              "United            3822\n",
              "US Airways        2913\n",
              "American          2759\n",
              "Southwest         2420\n",
              "Delta             2222\n",
              "Virgin America     504\n",
              "Name: airline, dtype: int64"
            ]
          },
          "metadata": {
            "tags": []
          },
          "execution_count": 5
        }
      ]
    },
    {
      "metadata": {
        "id": "hA5d_lEPrKK6",
        "colab_type": "code",
        "colab": {
          "autoexec": {
            "startup": false,
            "wait_interval": 0
          }
        },
        "outputId": "b34b60b6-f27f-43f5-f3ec-8a3ffc846da0"
      },
      "cell_type": "code",
      "source": [
        "tweets[['airline_sentiment', 'text']]"
      ],
      "execution_count": 0,
      "outputs": [
        {
          "output_type": "execute_result",
          "data": {
            "text/html": [
              "<div>\n",
              "<style>\n",
              "    .dataframe thead tr:only-child th {\n",
              "        text-align: right;\n",
              "    }\n",
              "\n",
              "    .dataframe thead th {\n",
              "        text-align: left;\n",
              "    }\n",
              "\n",
              "    .dataframe tbody tr th {\n",
              "        vertical-align: top;\n",
              "    }\n",
              "</style>\n",
              "<table border=\"1\" class=\"dataframe\">\n",
              "  <thead>\n",
              "    <tr style=\"text-align: right;\">\n",
              "      <th></th>\n",
              "      <th>airline_sentiment</th>\n",
              "      <th>text</th>\n",
              "    </tr>\n",
              "    <tr>\n",
              "      <th>tweet_id</th>\n",
              "      <th></th>\n",
              "      <th></th>\n",
              "    </tr>\n",
              "  </thead>\n",
              "  <tbody>\n",
              "    <tr>\n",
              "      <th>570306133677760513</th>\n",
              "      <td>neutral</td>\n",
              "      <td>@VirginAmerica What @dhepburn said.</td>\n",
              "    </tr>\n",
              "    <tr>\n",
              "      <th>570301130888122368</th>\n",
              "      <td>positive</td>\n",
              "      <td>@VirginAmerica plus you've added commercials t...</td>\n",
              "    </tr>\n",
              "    <tr>\n",
              "      <th>570301083672813571</th>\n",
              "      <td>neutral</td>\n",
              "      <td>@VirginAmerica I didn't today... Must mean I n...</td>\n",
              "    </tr>\n",
              "    <tr>\n",
              "      <th>570301031407624196</th>\n",
              "      <td>negative</td>\n",
              "      <td>@VirginAmerica it's really aggressive to blast...</td>\n",
              "    </tr>\n",
              "    <tr>\n",
              "      <th>570300817074462722</th>\n",
              "      <td>negative</td>\n",
              "      <td>@VirginAmerica and it's a really big bad thing...</td>\n",
              "    </tr>\n",
              "    <tr>\n",
              "      <th>570300767074181121</th>\n",
              "      <td>negative</td>\n",
              "      <td>@VirginAmerica seriously would pay $30 a fligh...</td>\n",
              "    </tr>\n",
              "    <tr>\n",
              "      <th>570300616901320704</th>\n",
              "      <td>positive</td>\n",
              "      <td>@VirginAmerica yes, nearly every time I fly VX...</td>\n",
              "    </tr>\n",
              "    <tr>\n",
              "      <th>570300248553349120</th>\n",
              "      <td>neutral</td>\n",
              "      <td>@VirginAmerica Really missed a prime opportuni...</td>\n",
              "    </tr>\n",
              "    <tr>\n",
              "      <th>570299953286942721</th>\n",
              "      <td>positive</td>\n",
              "      <td>@virginamerica Well, I didn't…but NOW I DO! :-D</td>\n",
              "    </tr>\n",
              "    <tr>\n",
              "      <th>570295459631263746</th>\n",
              "      <td>positive</td>\n",
              "      <td>@VirginAmerica it was amazing, and arrived an ...</td>\n",
              "    </tr>\n",
              "    <tr>\n",
              "      <th>570294189143031808</th>\n",
              "      <td>neutral</td>\n",
              "      <td>@VirginAmerica did you know that suicide is th...</td>\n",
              "    </tr>\n",
              "    <tr>\n",
              "      <th>570289724453216256</th>\n",
              "      <td>positive</td>\n",
              "      <td>@VirginAmerica I &amp;lt;3 pretty graphics. so muc...</td>\n",
              "    </tr>\n",
              "    <tr>\n",
              "      <th>570289584061480960</th>\n",
              "      <td>positive</td>\n",
              "      <td>@VirginAmerica This is such a great deal! Alre...</td>\n",
              "    </tr>\n",
              "    <tr>\n",
              "      <th>570287408438120448</th>\n",
              "      <td>positive</td>\n",
              "      <td>@VirginAmerica @virginmedia I'm flying your #f...</td>\n",
              "    </tr>\n",
              "    <tr>\n",
              "      <th>570285904809598977</th>\n",
              "      <td>positive</td>\n",
              "      <td>@VirginAmerica Thanks!</td>\n",
              "    </tr>\n",
              "    <tr>\n",
              "      <th>570282469121007616</th>\n",
              "      <td>negative</td>\n",
              "      <td>@VirginAmerica SFO-PDX schedule is still MIA.</td>\n",
              "    </tr>\n",
              "    <tr>\n",
              "      <th>570277724385734656</th>\n",
              "      <td>positive</td>\n",
              "      <td>@VirginAmerica So excited for my first cross c...</td>\n",
              "    </tr>\n",
              "    <tr>\n",
              "      <th>570276917301137409</th>\n",
              "      <td>negative</td>\n",
              "      <td>@VirginAmerica  I flew from NYC to SFO last we...</td>\n",
              "    </tr>\n",
              "    <tr>\n",
              "      <th>570270684619923457</th>\n",
              "      <td>positive</td>\n",
              "      <td>I ❤️ flying @VirginAmerica. ☺️👍</td>\n",
              "    </tr>\n",
              "    <tr>\n",
              "      <th>570267956648792064</th>\n",
              "      <td>positive</td>\n",
              "      <td>@VirginAmerica you know what would be amazingl...</td>\n",
              "    </tr>\n",
              "    <tr>\n",
              "      <th>570265883513384960</th>\n",
              "      <td>negative</td>\n",
              "      <td>@VirginAmerica why are your first fares in May...</td>\n",
              "    </tr>\n",
              "    <tr>\n",
              "      <th>570264145116819457</th>\n",
              "      <td>positive</td>\n",
              "      <td>@VirginAmerica I love this graphic. http://t.c...</td>\n",
              "    </tr>\n",
              "    <tr>\n",
              "      <th>570259420287868928</th>\n",
              "      <td>positive</td>\n",
              "      <td>@VirginAmerica I love the hipster innovation. ...</td>\n",
              "    </tr>\n",
              "    <tr>\n",
              "      <th>570258822297579520</th>\n",
              "      <td>neutral</td>\n",
              "      <td>@VirginAmerica will you be making BOS&amp;gt;LAS n...</td>\n",
              "    </tr>\n",
              "    <tr>\n",
              "      <th>570256553502068736</th>\n",
              "      <td>negative</td>\n",
              "      <td>@VirginAmerica you guys messed up my seating.....</td>\n",
              "    </tr>\n",
              "    <tr>\n",
              "      <th>570249102404923392</th>\n",
              "      <td>negative</td>\n",
              "      <td>@VirginAmerica status match program.  I applie...</td>\n",
              "    </tr>\n",
              "    <tr>\n",
              "      <th>570239632807370753</th>\n",
              "      <td>negative</td>\n",
              "      <td>@VirginAmerica What happened 2 ur vegan food o...</td>\n",
              "    </tr>\n",
              "    <tr>\n",
              "      <th>570217831557677057</th>\n",
              "      <td>neutral</td>\n",
              "      <td>@VirginAmerica do you miss me? Don't worry we'...</td>\n",
              "    </tr>\n",
              "    <tr>\n",
              "      <th>570207886493782019</th>\n",
              "      <td>negative</td>\n",
              "      <td>@VirginAmerica amazing to me that we can't get...</td>\n",
              "    </tr>\n",
              "    <tr>\n",
              "      <th>570124596180955136</th>\n",
              "      <td>neutral</td>\n",
              "      <td>@VirginAmerica LAX to EWR - Middle seat on a r...</td>\n",
              "    </tr>\n",
              "    <tr>\n",
              "      <th>...</th>\n",
              "      <td>...</td>\n",
              "      <td>...</td>\n",
              "    </tr>\n",
              "    <tr>\n",
              "      <th>569591765793165312</th>\n",
              "      <td>negative</td>\n",
              "      <td>@AmericanAir I understand the weather issue bu...</td>\n",
              "    </tr>\n",
              "    <tr>\n",
              "      <th>569591730506371072</th>\n",
              "      <td>neutral</td>\n",
              "      <td>@AmericanAir guarantee no retribution? If so, ...</td>\n",
              "    </tr>\n",
              "    <tr>\n",
              "      <th>569591700416393216</th>\n",
              "      <td>negative</td>\n",
              "      <td>@AmericanAir a friend is having flight Cancell...</td>\n",
              "    </tr>\n",
              "    <tr>\n",
              "      <th>569591653121597440</th>\n",
              "      <td>negative</td>\n",
              "      <td>@AmericanAir I used the \"call back\" feature wi...</td>\n",
              "    </tr>\n",
              "    <tr>\n",
              "      <th>569591540944756737</th>\n",
              "      <td>negative</td>\n",
              "      <td>@AmericanAir I need to be at work tomorrow at ...</td>\n",
              "    </tr>\n",
              "    <tr>\n",
              "      <th>569591533617307648</th>\n",
              "      <td>negative</td>\n",
              "      <td>@AmericanAir  ugh Dump us in dfw w/no luggage ...</td>\n",
              "    </tr>\n",
              "    <tr>\n",
              "      <th>569591393540288512</th>\n",
              "      <td>negative</td>\n",
              "      <td>@AmericanAir Cancelled Flights my flight, does...</td>\n",
              "    </tr>\n",
              "    <tr>\n",
              "      <th>569591285150908416</th>\n",
              "      <td>positive</td>\n",
              "      <td>@AmericanAir DMing you now! Big thanks.</td>\n",
              "    </tr>\n",
              "    <tr>\n",
              "      <th>569591136534319105</th>\n",
              "      <td>negative</td>\n",
              "      <td>@AmericanAir 3078 is overweight so you pull 2 ...</td>\n",
              "    </tr>\n",
              "    <tr>\n",
              "      <th>569590988395708416</th>\n",
              "      <td>positive</td>\n",
              "      <td>@AmericanAir I love your company and your staf...</td>\n",
              "    </tr>\n",
              "    <tr>\n",
              "      <th>569590965880532993</th>\n",
              "      <td>negative</td>\n",
              "      <td>@AmericanAir I wait 2+ hrs for CS to call me b...</td>\n",
              "    </tr>\n",
              "    <tr>\n",
              "      <th>569590892085915649</th>\n",
              "      <td>negative</td>\n",
              "      <td>@AmericanAir I've been on hold for 55 mins abo...</td>\n",
              "    </tr>\n",
              "    <tr>\n",
              "      <th>569590191758962688</th>\n",
              "      <td>negative</td>\n",
              "      <td>I just need a place to sleep when I land witho...</td>\n",
              "    </tr>\n",
              "    <tr>\n",
              "      <th>569590013278756865</th>\n",
              "      <td>positive</td>\n",
              "      <td>@AmericanAir Love the new planes for the JFK-L...</td>\n",
              "    </tr>\n",
              "    <tr>\n",
              "      <th>569589959088173056</th>\n",
              "      <td>negative</td>\n",
              "      <td>@AmericanAir Call me Chairman, or call me Emer...</td>\n",
              "    </tr>\n",
              "    <tr>\n",
              "      <th>569589643487928321</th>\n",
              "      <td>positive</td>\n",
              "      <td>@AmericanAir Flight 236 was great. Fantastic c...</td>\n",
              "    </tr>\n",
              "    <tr>\n",
              "      <th>569589460226183168</th>\n",
              "      <td>negative</td>\n",
              "      <td>@AmericanAir Flight 953 NYC-Buenos Aires has b...</td>\n",
              "    </tr>\n",
              "    <tr>\n",
              "      <th>569588816438169600</th>\n",
              "      <td>negative</td>\n",
              "      <td>@AmericanAir Flight Cancelled Flightled, can't...</td>\n",
              "    </tr>\n",
              "    <tr>\n",
              "      <th>569588651925098496</th>\n",
              "      <td>positive</td>\n",
              "      <td>Thank you. “@AmericanAir: @jlhalldc Customer R...</td>\n",
              "    </tr>\n",
              "    <tr>\n",
              "      <th>569588591602458624</th>\n",
              "      <td>negative</td>\n",
              "      <td>@AmericanAir How do I change my flight if the ...</td>\n",
              "    </tr>\n",
              "    <tr>\n",
              "      <th>569588473050611712</th>\n",
              "      <td>positive</td>\n",
              "      <td>@AmericanAir Thanks! He is.</td>\n",
              "    </tr>\n",
              "    <tr>\n",
              "      <th>569588464896876545</th>\n",
              "      <td>negative</td>\n",
              "      <td>@AmericanAir thx for nothing on getting us out...</td>\n",
              "    </tr>\n",
              "    <tr>\n",
              "      <th>569587813856841728</th>\n",
              "      <td>neutral</td>\n",
              "      <td>“@AmericanAir: @TilleyMonsta George, that does...</td>\n",
              "    </tr>\n",
              "    <tr>\n",
              "      <th>569587705937600512</th>\n",
              "      <td>negative</td>\n",
              "      <td>@AmericanAir my flight was Cancelled Flightled...</td>\n",
              "    </tr>\n",
              "    <tr>\n",
              "      <th>569587691626622976</th>\n",
              "      <td>negative</td>\n",
              "      <td>@AmericanAir right on cue with the delays👌</td>\n",
              "    </tr>\n",
              "    <tr>\n",
              "      <th>569587686496825344</th>\n",
              "      <td>positive</td>\n",
              "      <td>@AmericanAir thank you we got on a different f...</td>\n",
              "    </tr>\n",
              "    <tr>\n",
              "      <th>569587371693355008</th>\n",
              "      <td>negative</td>\n",
              "      <td>@AmericanAir leaving over 20 minutes Late Flig...</td>\n",
              "    </tr>\n",
              "    <tr>\n",
              "      <th>569587242672398336</th>\n",
              "      <td>neutral</td>\n",
              "      <td>@AmericanAir Please bring American Airlines to...</td>\n",
              "    </tr>\n",
              "    <tr>\n",
              "      <th>569587188687634433</th>\n",
              "      <td>negative</td>\n",
              "      <td>@AmericanAir you have my money, you change my ...</td>\n",
              "    </tr>\n",
              "    <tr>\n",
              "      <th>569587140490866689</th>\n",
              "      <td>neutral</td>\n",
              "      <td>@AmericanAir we have 8 ppl so we need 2 know h...</td>\n",
              "    </tr>\n",
              "  </tbody>\n",
              "</table>\n",
              "<p>14640 rows × 2 columns</p>\n",
              "</div>"
            ],
            "text/plain": [
              "                   airline_sentiment  \\\n",
              "tweet_id                               \n",
              "570306133677760513           neutral   \n",
              "570301130888122368          positive   \n",
              "570301083672813571           neutral   \n",
              "570301031407624196          negative   \n",
              "570300817074462722          negative   \n",
              "570300767074181121          negative   \n",
              "570300616901320704          positive   \n",
              "570300248553349120           neutral   \n",
              "570299953286942721          positive   \n",
              "570295459631263746          positive   \n",
              "570294189143031808           neutral   \n",
              "570289724453216256          positive   \n",
              "570289584061480960          positive   \n",
              "570287408438120448          positive   \n",
              "570285904809598977          positive   \n",
              "570282469121007616          negative   \n",
              "570277724385734656          positive   \n",
              "570276917301137409          negative   \n",
              "570270684619923457          positive   \n",
              "570267956648792064          positive   \n",
              "570265883513384960          negative   \n",
              "570264145116819457          positive   \n",
              "570259420287868928          positive   \n",
              "570258822297579520           neutral   \n",
              "570256553502068736          negative   \n",
              "570249102404923392          negative   \n",
              "570239632807370753          negative   \n",
              "570217831557677057           neutral   \n",
              "570207886493782019          negative   \n",
              "570124596180955136           neutral   \n",
              "...                              ...   \n",
              "569591765793165312          negative   \n",
              "569591730506371072           neutral   \n",
              "569591700416393216          negative   \n",
              "569591653121597440          negative   \n",
              "569591540944756737          negative   \n",
              "569591533617307648          negative   \n",
              "569591393540288512          negative   \n",
              "569591285150908416          positive   \n",
              "569591136534319105          negative   \n",
              "569590988395708416          positive   \n",
              "569590965880532993          negative   \n",
              "569590892085915649          negative   \n",
              "569590191758962688          negative   \n",
              "569590013278756865          positive   \n",
              "569589959088173056          negative   \n",
              "569589643487928321          positive   \n",
              "569589460226183168          negative   \n",
              "569588816438169600          negative   \n",
              "569588651925098496          positive   \n",
              "569588591602458624          negative   \n",
              "569588473050611712          positive   \n",
              "569588464896876545          negative   \n",
              "569587813856841728           neutral   \n",
              "569587705937600512          negative   \n",
              "569587691626622976          negative   \n",
              "569587686496825344          positive   \n",
              "569587371693355008          negative   \n",
              "569587242672398336           neutral   \n",
              "569587188687634433          negative   \n",
              "569587140490866689           neutral   \n",
              "\n",
              "                                                                 text  \n",
              "tweet_id                                                               \n",
              "570306133677760513                @VirginAmerica What @dhepburn said.  \n",
              "570301130888122368  @VirginAmerica plus you've added commercials t...  \n",
              "570301083672813571  @VirginAmerica I didn't today... Must mean I n...  \n",
              "570301031407624196  @VirginAmerica it's really aggressive to blast...  \n",
              "570300817074462722  @VirginAmerica and it's a really big bad thing...  \n",
              "570300767074181121  @VirginAmerica seriously would pay $30 a fligh...  \n",
              "570300616901320704  @VirginAmerica yes, nearly every time I fly VX...  \n",
              "570300248553349120  @VirginAmerica Really missed a prime opportuni...  \n",
              "570299953286942721    @virginamerica Well, I didn't…but NOW I DO! :-D  \n",
              "570295459631263746  @VirginAmerica it was amazing, and arrived an ...  \n",
              "570294189143031808  @VirginAmerica did you know that suicide is th...  \n",
              "570289724453216256  @VirginAmerica I &lt;3 pretty graphics. so muc...  \n",
              "570289584061480960  @VirginAmerica This is such a great deal! Alre...  \n",
              "570287408438120448  @VirginAmerica @virginmedia I'm flying your #f...  \n",
              "570285904809598977                             @VirginAmerica Thanks!  \n",
              "570282469121007616      @VirginAmerica SFO-PDX schedule is still MIA.  \n",
              "570277724385734656  @VirginAmerica So excited for my first cross c...  \n",
              "570276917301137409  @VirginAmerica  I flew from NYC to SFO last we...  \n",
              "570270684619923457                    I ❤️ flying @VirginAmerica. ☺️👍  \n",
              "570267956648792064  @VirginAmerica you know what would be amazingl...  \n",
              "570265883513384960  @VirginAmerica why are your first fares in May...  \n",
              "570264145116819457  @VirginAmerica I love this graphic. http://t.c...  \n",
              "570259420287868928  @VirginAmerica I love the hipster innovation. ...  \n",
              "570258822297579520  @VirginAmerica will you be making BOS&gt;LAS n...  \n",
              "570256553502068736  @VirginAmerica you guys messed up my seating.....  \n",
              "570249102404923392  @VirginAmerica status match program.  I applie...  \n",
              "570239632807370753  @VirginAmerica What happened 2 ur vegan food o...  \n",
              "570217831557677057  @VirginAmerica do you miss me? Don't worry we'...  \n",
              "570207886493782019  @VirginAmerica amazing to me that we can't get...  \n",
              "570124596180955136  @VirginAmerica LAX to EWR - Middle seat on a r...  \n",
              "...                                                               ...  \n",
              "569591765793165312  @AmericanAir I understand the weather issue bu...  \n",
              "569591730506371072  @AmericanAir guarantee no retribution? If so, ...  \n",
              "569591700416393216  @AmericanAir a friend is having flight Cancell...  \n",
              "569591653121597440  @AmericanAir I used the \"call back\" feature wi...  \n",
              "569591540944756737  @AmericanAir I need to be at work tomorrow at ...  \n",
              "569591533617307648  @AmericanAir  ugh Dump us in dfw w/no luggage ...  \n",
              "569591393540288512  @AmericanAir Cancelled Flights my flight, does...  \n",
              "569591285150908416            @AmericanAir DMing you now! Big thanks.  \n",
              "569591136534319105  @AmericanAir 3078 is overweight so you pull 2 ...  \n",
              "569590988395708416  @AmericanAir I love your company and your staf...  \n",
              "569590965880532993  @AmericanAir I wait 2+ hrs for CS to call me b...  \n",
              "569590892085915649  @AmericanAir I've been on hold for 55 mins abo...  \n",
              "569590191758962688  I just need a place to sleep when I land witho...  \n",
              "569590013278756865  @AmericanAir Love the new planes for the JFK-L...  \n",
              "569589959088173056  @AmericanAir Call me Chairman, or call me Emer...  \n",
              "569589643487928321  @AmericanAir Flight 236 was great. Fantastic c...  \n",
              "569589460226183168  @AmericanAir Flight 953 NYC-Buenos Aires has b...  \n",
              "569588816438169600  @AmericanAir Flight Cancelled Flightled, can't...  \n",
              "569588651925098496  Thank you. “@AmericanAir: @jlhalldc Customer R...  \n",
              "569588591602458624  @AmericanAir How do I change my flight if the ...  \n",
              "569588473050611712                        @AmericanAir Thanks! He is.  \n",
              "569588464896876545  @AmericanAir thx for nothing on getting us out...  \n",
              "569587813856841728  “@AmericanAir: @TilleyMonsta George, that does...  \n",
              "569587705937600512  @AmericanAir my flight was Cancelled Flightled...  \n",
              "569587691626622976         @AmericanAir right on cue with the delays👌  \n",
              "569587686496825344  @AmericanAir thank you we got on a different f...  \n",
              "569587371693355008  @AmericanAir leaving over 20 minutes Late Flig...  \n",
              "569587242672398336  @AmericanAir Please bring American Airlines to...  \n",
              "569587188687634433  @AmericanAir you have my money, you change my ...  \n",
              "569587140490866689  @AmericanAir we have 8 ppl so we need 2 know h...  \n",
              "\n",
              "[14640 rows x 2 columns]"
            ]
          },
          "metadata": {
            "tags": []
          },
          "execution_count": 6
        }
      ]
    },
    {
      "metadata": {
        "id": "UPmvIO_KrKK9",
        "colab_type": "code",
        "colab": {
          "autoexec": {
            "startup": false,
            "wait_interval": 0
          }
        },
        "outputId": "cdc42563-85a3-45bc-8aae-d32bdd129163"
      },
      "cell_type": "code",
      "source": [
        "pd.Series(tweets[\"airline\"]).value_counts().plot(kind = \"bar\",figsize=(8,6),rot = 0)"
      ],
      "execution_count": 0,
      "outputs": [
        {
          "output_type": "execute_result",
          "data": {
            "text/plain": [
              "<matplotlib.axes._subplots.AxesSubplot at 0x117193be0>"
            ]
          },
          "metadata": {
            "tags": []
          },
          "execution_count": 7
        },
        {
          "output_type": "display_data",
          "data": {
            "image/png": "[encoded data removed]",
            "text/plain": [
              "<matplotlib.figure.Figure at 0x117193f28>"
            ]
          },
          "metadata": {
            "tags": []
          }
        }
      ]
    },
    {
      "metadata": {
        "id": "Go0CCBTxrKLA",
        "colab_type": "code",
        "colab": {
          "autoexec": {
            "startup": false,
            "wait_interval": 0
          }
        },
        "outputId": "eead8f60-e888-4759-e318-99ffa2342317"
      },
      "cell_type": "code",
      "source": [
        "pd.crosstab(index = tweets[\"airline\"],columns = tweets[\"airline_sentiment\"]).plot(kind='bar',figsize=(10, 6),alpha=0.5,rot=0,stacked=True,title=\"Sentiment by airline\")"
      ],
      "execution_count": 0,
      "outputs": [
        {
          "output_type": "execute_result",
          "data": {
            "text/plain": [
              "<matplotlib.axes._subplots.AxesSubplot at 0x115f9abe0>"
            ]
          },
          "metadata": {
            "tags": []
          },
          "execution_count": 8
        },
        {
          "output_type": "display_data",
          "data": {
            "image/png": "[encoded data removed]",
            "text/plain": [
              "<matplotlib.figure.Figure at 0x1125df358>"
            ]
          },
          "metadata": {
            "tags": []
          }
        }
      ]
    },
    {
      "metadata": {
        "id": "Wx4XhLSYrKLF",
        "colab_type": "text"
      },
      "cell_type": "markdown",
      "source": [
        "# Exercise 8.1 \n",
        "\n",
        "Predict the sentiment using CountVectorizer, stopwords, n_grams, stemmer, TfidfVectorizer\n",
        "\n",
        "use Random Forest classifier"
      ]
    },
    {
      "metadata": {
        "id": "m7-317TUrKLG",
        "colab_type": "code",
        "colab": {
          "autoexec": {
            "startup": false,
            "wait_interval": 0
          }
        }
      },
      "cell_type": "code",
      "source": [
        "# ya está partido en X y Y, crear un Random Forest para predecir el sentimiento de los Tweets\n",
        "# count vectorizer, hacer el flujo como el notebook 19."
      ],
      "execution_count": 0,
      "outputs": []
    },
    {
      "metadata": {
        "id": "RoQtpxyhrKLI",
        "colab_type": "code",
        "colab": {
          "autoexec": {
            "startup": false,
            "wait_interval": 0
          }
        }
      },
      "cell_type": "code",
      "source": [
        "from sklearn.model_selection import train_test_split, cross_val_score\n",
        "from sklearn.feature_extraction.text import CountVectorizer, TfidfVectorizer\n",
        "from sklearn.ensemble import RandomForestClassifier\n",
        "from nltk.stem.snowball import SnowballStemmer\n",
        "from nltk.stem import WordNetLemmatizer"
      ],
      "execution_count": 0,
      "outputs": []
    },
    {
      "metadata": {
        "id": "_9C8JBKdrKLK",
        "colab_type": "code",
        "colab": {
          "autoexec": {
            "startup": false,
            "wait_interval": 0
          }
        }
      },
      "cell_type": "code",
      "source": [
        "X = tweets['text']\n",
        "y = tweets['airline_sentiment'].map({'negative':-1,'neutral':0,'positive':1})"
      ],
      "execution_count": 0,
      "outputs": []
    },
    {
      "metadata": {
        "id": "Yu0sOw0krKLO",
        "colab_type": "code",
        "colab": {
          "autoexec": {
            "startup": false,
            "wait_interval": 0
          }
        },
        "outputId": "79a8736f-fa0c-45b2-d2a4-8c04327ce173"
      },
      "cell_type": "code",
      "source": [
        "y.describe()"
      ],
      "execution_count": 0,
      "outputs": [
        {
          "output_type": "execute_result",
          "data": {
            "text/plain": [
              "count    14640.000000\n",
              "mean        -0.465505\n",
              "std          0.756084\n",
              "min         -1.000000\n",
              "25%         -1.000000\n",
              "50%         -1.000000\n",
              "75%          0.000000\n",
              "max          1.000000\n",
              "Name: airline_sentiment, dtype: float64"
            ]
          },
          "metadata": {
            "tags": []
          },
          "execution_count": 12
        }
      ]
    },
    {
      "metadata": {
        "id": "6pwVh3AUrKLR",
        "colab_type": "code",
        "colab": {
          "autoexec": {
            "startup": false,
            "wait_interval": 0
          }
        },
        "outputId": "03fbb20c-9e03-4811-86e8-db26a2882784"
      },
      "cell_type": "code",
      "source": [
        "from keras.utils import np_utils\n",
        "y_train= np_utils.to_categorical(y, 3)"
      ],
      "execution_count": 0,
      "outputs": [
        {
          "output_type": "stream",
          "text": [
            "Using TensorFlow backend.\n"
          ],
          "name": "stderr"
        }
      ]
    },
    {
      "metadata": {
        "id": "IIF80idQrKLT",
        "colab_type": "text"
      },
      "cell_type": "markdown",
      "source": [
        "We will split our data into train a test"
      ]
    },
    {
      "metadata": {
        "id": "FEkP-sItrKLU",
        "colab_type": "code",
        "colab": {
          "autoexec": {
            "startup": false,
            "wait_interval": 0
          }
        }
      },
      "cell_type": "code",
      "source": [
        "X_train, X_test, y_train, y_test = train_test_split(X, y_train, test_size=0.33, random_state=42)"
      ],
      "execution_count": 0,
      "outputs": []
    },
    {
      "metadata": {
        "id": "oJC4h7iPrKLX",
        "colab_type": "code",
        "colab": {
          "autoexec": {
            "startup": false,
            "wait_interval": 0
          }
        },
        "outputId": "885ac3b8-d389-4d15-e5f9-08b6c871929a"
      },
      "cell_type": "code",
      "source": [
        "vect = CountVectorizer()\n",
        "X_dtm = vect.fit_transform(X_train)\n",
        "X_dtm.shape"
      ],
      "execution_count": 0,
      "outputs": [
        {
          "output_type": "execute_result",
          "data": {
            "text/plain": [
              "(9808, 12056)"
            ]
          },
          "metadata": {
            "tags": []
          },
          "execution_count": 15
        }
      ]
    },
    {
      "metadata": {
        "id": "e1PDcr9irKLa",
        "colab_type": "code",
        "colab": {
          "autoexec": {
            "startup": false,
            "wait_interval": 0
          }
        },
        "outputId": "96560a04-d970-4945-f549-a413404c0a99"
      },
      "cell_type": "code",
      "source": [
        "print(vect.get_feature_names()[-150:-100])"
      ],
      "execution_count": 0,
      "outputs": [
        {
          "output_type": "stream",
          "text": [
            "['xc6jq70r7b', 'xcvqxykg49', 'xd', 'xdjzkc34gb', 'xedeckgmw5', 'xf9mpnaaje', 'xgfs6tjtmo', 'xgpaayfdwt', 'xhsuupheze', 'xijifymvqp', 'xm', 'xmrvr4lgeg', 'xmz3tf9ix8', 'xna', 'xox', 'xoxo', 'xpm98igqjn', 'xrdtov7nl8', 'xtra', 'xx', 'xx2m2jxqep', 'xx5qscjll1', 'xxppzo88j1', 'xxsaombdgs', 'xxy2d2imnp', 'xzbajmiekx', 'xzmscw', 'y3sahvx3zk', 'y5qe9hcqzt', 'ya', 'yaffasolin', 'yall', 'yards', 'yasss', 'yasssss', 'yay', 'yayayay', 'ybmbgs0dhn', 'yc7v2s0iod', 'yco9dikpt9', 'yday', 'yea', 'yeah', 'year', 'yearly', 'years', 'yeehaw', 'yeg', 'yell', 'yelled']\n"
          ],
          "name": "stdout"
        }
      ]
    },
    {
      "metadata": {
        "id": "r7FZP1ZlrKLc",
        "colab_type": "code",
        "colab": {
          "autoexec": {
            "startup": false,
            "wait_interval": 0
          }
        },
        "outputId": "a51deb6a-6eed-4742-be90-fa3bf2e6fc92"
      },
      "cell_type": "code",
      "source": [
        "vect = CountVectorizer(ngram_range=(1, 2))\n",
        "X_dtm = vect.fit_transform(X_train)\n",
        "X_dtm.shape"
      ],
      "execution_count": 0,
      "outputs": [
        {
          "output_type": "execute_result",
          "data": {
            "text/plain": [
              "(9808, 87608)"
            ]
          },
          "metadata": {
            "tags": []
          },
          "execution_count": 17
        }
      ]
    },
    {
      "metadata": {
        "id": "g0faqthXrKLf",
        "colab_type": "code",
        "colab": {
          "autoexec": {
            "startup": false,
            "wait_interval": 0
          }
        },
        "outputId": "27180833-28f3-4fe4-d97b-69cf439e22c2"
      },
      "cell_type": "code",
      "source": [
        "X_dtm.todense()[0].argmax()"
      ],
      "execution_count": 0,
      "outputs": [
        {
          "output_type": "execute_result",
          "data": {
            "text/plain": [
              "6489"
            ]
          },
          "metadata": {
            "tags": []
          },
          "execution_count": 18
        }
      ]
    },
    {
      "metadata": {
        "id": "fDOqro0jrKLh",
        "colab_type": "text"
      },
      "cell_type": "markdown",
      "source": [
        "The most common word is am on the training data set"
      ]
    },
    {
      "metadata": {
        "id": "R0qU3s0grKLi",
        "colab_type": "code",
        "colab": {
          "autoexec": {
            "startup": false,
            "wait_interval": 0
          }
        },
        "outputId": "06985fa9-3b68-4441-b776-2d79e25c3d0e"
      },
      "cell_type": "code",
      "source": [
        "vect.get_feature_names()[6489]"
      ],
      "execution_count": 0,
      "outputs": [
        {
          "output_type": "execute_result",
          "data": {
            "text/plain": [
              "'am'"
            ]
          },
          "metadata": {
            "tags": []
          },
          "execution_count": 19
        }
      ]
    },
    {
      "metadata": {
        "id": "DmagKWsjrKLk",
        "colab_type": "text"
      },
      "cell_type": "markdown",
      "source": [
        "# CountVectorizer"
      ]
    },
    {
      "metadata": {
        "id": "bNkduzD2rKLl",
        "colab_type": "text"
      },
      "cell_type": "markdown",
      "source": [
        "This technique just consider the top max_features ordered by term frequency across the corpus."
      ]
    },
    {
      "metadata": {
        "id": "LCNgdhIzrKLl",
        "colab_type": "text"
      },
      "cell_type": "markdown",
      "source": [
        "Using a CountVectorizer and a Random forest as classifier without any calibration we got an accuracy of 0.6322"
      ]
    },
    {
      "metadata": {
        "id": "3w0Yc_5_rKLm",
        "colab_type": "code",
        "colab": {
          "autoexec": {
            "startup": false,
            "wait_interval": 0
          }
        },
        "outputId": "ccf3ac7c-9ac6-4144-f244-1c0059eddbca"
      },
      "cell_type": "code",
      "source": [
        "# Default CountVectorizer\n",
        "vect = CountVectorizer()\n",
        "X_dtm = vect.fit_transform(X_train)\n",
        "\n",
        "# use Naive Bayes to predict the star rating\n",
        "np.random.seed(123)\n",
        "RF = RandomForestClassifier()\n",
        "pd.Series(cross_val_score(RF, X_dtm, y_train, cv=10)).describe()"
      ],
      "execution_count": 0,
      "outputs": [
        {
          "output_type": "execute_result",
          "data": {
            "text/plain": [
              "count    10.000000\n",
              "mean      0.632238\n",
              "std       0.017588\n",
              "min       0.591233\n",
              "25%       0.627551\n",
              "50%       0.635066\n",
              "75%       0.642966\n",
              "max       0.655454\n",
              "dtype: float64"
            ]
          },
          "metadata": {
            "tags": []
          },
          "execution_count": 21
        }
      ]
    },
    {
      "metadata": {
        "id": "cC_LrM-CrKLo",
        "colab_type": "code",
        "colab": {
          "autoexec": {
            "startup": false,
            "wait_interval": 0
          }
        }
      },
      "cell_type": "code",
      "source": [
        "# define a function that accepts a vectorizer and calculates the accuracy\n",
        "def tokenize_test(vect):\n",
        "    X_dtm = vect.fit_transform(X_train)\n",
        "    print('Features: ', X_dtm.shape[1])\n",
        "    RF = RandomForestClassifier()\n",
        "    print(pd.Series(cross_val_score(RF, X_dtm, y_train, cv=10)).describe())"
      ],
      "execution_count": 0,
      "outputs": []
    },
    {
      "metadata": {
        "id": "G8XnoeCArKLq",
        "colab_type": "code",
        "colab": {
          "autoexec": {
            "startup": false,
            "wait_interval": 0
          }
        },
        "outputId": "ef0325a2-89b0-42be-cffd-131f5b4b67f1"
      },
      "cell_type": "code",
      "source": [
        "# include 1-grams and 2-grams\n",
        "np.random.seed(123)\n",
        "vect = CountVectorizer(ngram_range=(1, 2))\n",
        "tokenize_test(vect)"
      ],
      "execution_count": 0,
      "outputs": [
        {
          "output_type": "stream",
          "text": [
            "Features:  87608\n",
            "count    10.000000\n",
            "mean      0.649163\n",
            "std       0.017322\n",
            "min       0.607543\n",
            "25%       0.643968\n",
            "50%       0.649337\n",
            "75%       0.661060\n",
            "max       0.667686\n",
            "dtype: float64\n"
          ],
          "name": "stdout"
        }
      ]
    },
    {
      "metadata": {
        "id": "fVswiqEirKLu",
        "colab_type": "text"
      },
      "cell_type": "markdown",
      "source": [
        "## StopWords function"
      ]
    },
    {
      "metadata": {
        "id": "gapvErkIrKLw",
        "colab_type": "text"
      },
      "cell_type": "markdown",
      "source": [
        "Using the Stopwords function we got an accuracy of 0.634376"
      ]
    },
    {
      "metadata": {
        "id": "Qc4a6XYgrKLw",
        "colab_type": "code",
        "colab": {
          "autoexec": {
            "startup": false,
            "wait_interval": 0
          }
        },
        "outputId": "6b253d10-f0ef-4e82-9d54-3c4c8d70deb1"
      },
      "cell_type": "code",
      "source": [
        "# remove English stop words\n",
        "np.random.seed(123)\n",
        "vect_1 = CountVectorizer(stop_words='english')\n",
        "tokenize_test(vect_1)"
      ],
      "execution_count": 0,
      "outputs": [
        {
          "output_type": "stream",
          "text": [
            "Features:  11777\n",
            "count    10.000000\n",
            "mean      0.634376\n",
            "std       0.019255\n",
            "min       0.603466\n",
            "25%       0.625860\n",
            "50%       0.638124\n",
            "75%       0.647044\n",
            "max       0.657492\n",
            "dtype: float64\n"
          ],
          "name": "stdout"
        }
      ]
    },
    {
      "metadata": {
        "id": "SytXqvkVrKLy",
        "colab_type": "text"
      },
      "cell_type": "markdown",
      "source": [
        "# Including ngrams"
      ]
    },
    {
      "metadata": {
        "id": "FGJSqsLKrKLy",
        "colab_type": "code",
        "colab": {
          "autoexec": {
            "startup": false,
            "wait_interval": 0
          }
        },
        "outputId": "23b8a474-e11a-444b-af70-630c183b0fa9"
      },
      "cell_type": "code",
      "source": [
        "# include 1-grams and 2-grams, and limit the number of features\n",
        "np.random.seed(123)\n",
        "vect_2 = CountVectorizer(ngram_range=(1, 2), max_features=1000)\n",
        "tokenize_test(vect_2)"
      ],
      "execution_count": 0,
      "outputs": [
        {
          "output_type": "stream",
          "text": [
            "Features:  1000\n",
            "count    10.000000\n",
            "mean      0.641109\n",
            "std       0.016062\n",
            "min       0.604485\n",
            "25%       0.637337\n",
            "50%       0.642529\n",
            "75%       0.646279\n",
            "max       0.661570\n",
            "dtype: float64\n"
          ],
          "name": "stdout"
        }
      ]
    },
    {
      "metadata": {
        "id": "YQIZf5lirKL2",
        "colab_type": "text"
      },
      "cell_type": "markdown",
      "source": [
        "We will include a \"cut off\" in the model using the min_df parameter, so this means that the model will ignore terms that have a document frequency strictly higher than the given threshold"
      ]
    },
    {
      "metadata": {
        "id": "Ij0Pvo3qrKL3",
        "colab_type": "code",
        "colab": {
          "autoexec": {
            "startup": false,
            "wait_interval": 0
          }
        },
        "outputId": "0d8cba12-08e3-44e8-b6e3-7334c0eaeeb9"
      },
      "cell_type": "code",
      "source": [
        "# include 1-grams and 2-grams, and only include terms that appear at least 2 times\n",
        "np.random.seed(123)\n",
        "vect = CountVectorizer(ngram_range=(1, 2), min_df=2)\n",
        "tokenize_test(vect)"
      ],
      "execution_count": 0,
      "outputs": [
        {
          "output_type": "stream",
          "text": [
            "Features:  22011\n",
            "count    10.000000\n",
            "mean      0.649570\n",
            "std       0.014517\n",
            "min       0.623853\n",
            "25%       0.644495\n",
            "50%       0.653238\n",
            "75%       0.655454\n",
            "max       0.675841\n",
            "dtype: float64\n"
          ],
          "name": "stdout"
        }
      ]
    },
    {
      "metadata": {
        "id": "4USwX3gbrKL5",
        "colab_type": "code",
        "colab": {
          "autoexec": {
            "startup": false,
            "wait_interval": 0
          }
        }
      },
      "cell_type": "code",
      "source": [
        "#TfidfVectorizer"
      ],
      "execution_count": 0,
      "outputs": []
    },
    {
      "metadata": {
        "id": "VWN3R-eYrKL6",
        "colab_type": "text"
      },
      "cell_type": "markdown",
      "source": [
        "# Stemming"
      ]
    },
    {
      "metadata": {
        "id": "ZMIV8_DgrKL8",
        "colab_type": "code",
        "colab": {
          "autoexec": {
            "startup": false,
            "wait_interval": 0
          }
        }
      },
      "cell_type": "code",
      "source": [
        "stemmer = SnowballStemmer('english')"
      ],
      "execution_count": 0,
      "outputs": []
    },
    {
      "metadata": {
        "id": "gZrCxHuprKL-",
        "colab_type": "code",
        "colab": {
          "autoexec": {
            "startup": false,
            "wait_interval": 0
          }
        }
      },
      "cell_type": "code",
      "source": [
        "# define a function that accepts text and returns a list of lemmas\n",
        "def split_into_steamer(text):\n",
        "    text = text.lower()\n",
        "    words = text.split()\n",
        "    return [stemmer.stem(word) for word in words]"
      ],
      "execution_count": 0,
      "outputs": []
    },
    {
      "metadata": {
        "id": "o_y8LwgJrKMA",
        "colab_type": "code",
        "colab": {
          "autoexec": {
            "startup": false,
            "wait_interval": 0
          }
        },
        "outputId": "aad557e4-26b5-4045-b2e1-500d9426666c"
      },
      "cell_type": "code",
      "source": [
        "np.random.seed(123)\n",
        "vect = CountVectorizer(analyzer=split_into_steamer)\n",
        "tokenize_test(vect)"
      ],
      "execution_count": 0,
      "outputs": [
        {
          "output_type": "stream",
          "text": [
            "Features:  18559\n",
            "count    10.000000\n",
            "mean      0.621226\n",
            "std       0.015219\n",
            "min       0.589195\n",
            "25%       0.621050\n",
            "50%       0.622834\n",
            "75%       0.630640\n",
            "max       0.638124\n",
            "dtype: float64\n"
          ],
          "name": "stdout"
        }
      ]
    },
    {
      "metadata": {
        "id": "En-eL-6PrKMD",
        "colab_type": "text"
      },
      "cell_type": "markdown",
      "source": [
        "# Lemmatization"
      ]
    },
    {
      "metadata": {
        "id": "REUK2iyyrKME",
        "colab_type": "code",
        "colab": {
          "autoexec": {
            "startup": false,
            "wait_interval": 0
          }
        }
      },
      "cell_type": "code",
      "source": [
        "from nltk.stem import WordNetLemmatizer\n",
        "wordnet_lemmatizer = WordNetLemmatizer()"
      ],
      "execution_count": 0,
      "outputs": []
    },
    {
      "metadata": {
        "id": "ryjL0W4PrKMG",
        "colab_type": "code",
        "colab": {
          "autoexec": {
            "startup": false,
            "wait_interval": 0
          }
        },
        "outputId": "b2caf479-334b-4588-eb6f-19d5cac7327f"
      },
      "cell_type": "code",
      "source": [
        "import nltk\n",
        "nltk.download('wordnet')"
      ],
      "execution_count": 0,
      "outputs": [
        {
          "output_type": "stream",
          "text": [
            "[nltk_data] Downloading package wordnet to /Users/jfrank/nltk_data...\n",
            "[nltk_data]   Package wordnet is already up-to-date!\n"
          ],
          "name": "stdout"
        },
        {
          "output_type": "execute_result",
          "data": {
            "text/plain": [
              "True"
            ]
          },
          "metadata": {
            "tags": []
          },
          "execution_count": 36
        }
      ]
    },
    {
      "metadata": {
        "id": "0Q3rrqKlrKMK",
        "colab_type": "code",
        "colab": {
          "autoexec": {
            "startup": false,
            "wait_interval": 0
          }
        }
      },
      "cell_type": "code",
      "source": [
        "# define a function that accepts text and returns a list of lemmas\n",
        "def split_into_lemmas(text):\n",
        "    text = text.lower()\n",
        "    words = text.split()\n",
        "    return [wordnet_lemmatizer.lemmatize(word) for word in words]"
      ],
      "execution_count": 0,
      "outputs": []
    },
    {
      "metadata": {
        "id": "_sOlHerCrKML",
        "colab_type": "code",
        "colab": {
          "autoexec": {
            "startup": false,
            "wait_interval": 0
          }
        },
        "outputId": "255fdfdf-033e-4e14-b384-7d22ec561c75"
      },
      "cell_type": "code",
      "source": [
        "# use split_into_lemmas as the feature extraction function (WARNING: SLOW!)\n",
        "np.random.seed(123)\n",
        "vect = CountVectorizer(analyzer=split_into_lemmas)\n",
        "tokenize_test(vect)"
      ],
      "execution_count": 0,
      "outputs": [
        {
          "output_type": "stream",
          "text": [
            "Features:  20084\n",
            "count    10.000000\n",
            "mean      0.620920\n",
            "std       0.019799\n",
            "min       0.583078\n",
            "25%       0.609993\n",
            "50%       0.618049\n",
            "75%       0.635066\n",
            "max       0.650357\n",
            "dtype: float64\n"
          ],
          "name": "stdout"
        }
      ]
    },
    {
      "metadata": {
        "id": "HSuAGRqmrKMN",
        "colab_type": "text"
      },
      "cell_type": "markdown",
      "source": [
        "Finally we will prove using Tfidtfvectorizer to see which are the most common words on all this tweets"
      ]
    },
    {
      "metadata": {
        "id": "pSsJ5lPyrKMO",
        "colab_type": "code",
        "colab": {
          "autoexec": {
            "startup": false,
            "wait_interval": 0
          }
        },
        "outputId": "ec03e347-6c71-4365-f799-8a2bf0a1d303"
      },
      "cell_type": "code",
      "source": [
        "# create a document-term matrix using TF-IDF\n",
        "vect = TfidfVectorizer(stop_words='english')\n",
        "dtm = vect.fit_transform(X)\n",
        "features = vect.get_feature_names()\n",
        "dtm.shape"
      ],
      "execution_count": 0,
      "outputs": [
        {
          "output_type": "execute_result",
          "data": {
            "text/plain": [
              "(14640, 14770)"
            ]
          },
          "metadata": {
            "tags": []
          },
          "execution_count": 20
        }
      ]
    },
    {
      "metadata": {
        "id": "12H7k9DgrKMQ",
        "colab_type": "code",
        "colab": {
          "autoexec": {
            "startup": false,
            "wait_interval": 0
          }
        }
      },
      "cell_type": "code",
      "source": [
        "# create a dictionary of words and their TF-IDF scores\n",
        "word_scores = {}\n",
        "for word in vect.vocabulary_.keys():\n",
        "    word = word.lower()\n",
        "    if word in features:\n",
        "        word_scores[word] = dtm[review_id, features.index(word)]"
      ],
      "execution_count": 0,
      "outputs": []
    },
    {
      "metadata": {
        "id": "5F52cUXyrKMU",
        "colab_type": "code",
        "colab": {
          "autoexec": {
            "startup": false,
            "wait_interval": 0
          }
        },
        "outputId": "2824034a-d693-45a1-83bc-d3e2ea34c07f"
      },
      "cell_type": "code",
      "source": [
        "# print words with the top 5 TF-IDF scores\n",
        "print('TOP SCORING WORDS:')\n",
        "top_scores = sorted(word_scores.items(), key=lambda x: x[1], reverse=True)[:10]\n",
        "for word, score in top_scores:\n",
        "    print(word)"
      ],
      "execution_count": 0,
      "outputs": [
        {
          "output_type": "stream",
          "text": [
            "TOP SCORING WORDS:\n",
            "hollywood\n",
            "dw5nf0ibtr\n",
            "los\n",
            "angeles\n",
            "mountains\n",
            "downtown\n",
            "rain\n",
            "view\n",
            "sign\n",
            "virginamerica\n"
          ],
          "name": "stdout"
        }
      ]
    },
    {
      "metadata": {
        "id": "XgcR5CoZrKMW",
        "colab_type": "text"
      },
      "cell_type": "markdown",
      "source": [
        "We listed here the 10 most common words on our database and we found that the most common word is Hollywood follow it by and strange word, maybe is an user which has been mentioned a lot on this network."
      ]
    },
    {
      "metadata": {
        "id": "AdY5bnuNrKMX",
        "colab_type": "code",
        "colab": {
          "autoexec": {
            "startup": false,
            "wait_interval": 0
          }
        },
        "outputId": "2450f298-1990-4afd-a06e-5fb46be75045"
      },
      "cell_type": "code",
      "source": [
        "import matplotlib.pyplot as plt\n",
        "plt.figure(figsize=(12,6))\n",
        "plt.bar([\"CountVectorizer\",\"StopWords\",\"ngrams\",\"Stemming\", \"Lemmatization\"],[0.649,0.6343,0.649,0.6212, 0.6209],color=\"orange\",align='center')\n",
        "plt.title(\"Comparison of kernel Initializer\")\n",
        "plt.xlabel(\"\",fontsize=12)\n",
        "plt.ylabel(\"Accuracy\")\n",
        "plt.show()"
      ],
      "execution_count": 0,
      "outputs": [
        {
          "output_type": "display_data",
          "data": {
            "image/png": "[encoded data removed]",
            "text/plain": [
              "<matplotlib.figure.Figure at 0x1a31cdb668>"
            ]
          },
          "metadata": {
            "tags": []
          }
        }
      ]
    },
    {
      "metadata": {
        "id": "H_4gteA7rKMZ",
        "colab_type": "text"
      },
      "cell_type": "markdown",
      "source": [
        "the best model was the ngrams one, so we will use it to train the Neural Network"
      ]
    },
    {
      "metadata": {
        "id": "PtrMGdxlrKMZ",
        "colab_type": "text"
      },
      "cell_type": "markdown",
      "source": [
        "# Exercise 8.2\n",
        "\n",
        "Train a Deep Neural Network with the following architecture:\n",
        "\n",
        "- Input = text \n",
        "- Dense(128)\n",
        "- Relu Activation\n",
        "- BatchNormalization\n",
        "- Dropout(0.5)\n",
        "- Dense(10, Softmax)\n",
        "\n",
        "Optimized using rmsprop using as loss categorical_crossentropy\n",
        "\n",
        "Hints: \n",
        "- test with two iterations then try more. \n",
        "- learning can be ajusted\n",
        "\n",
        "Evaluate the performance using the testing set (aprox 55% with 50 epochs)"
      ]
    },
    {
      "metadata": {
        "id": "CcsHxyburKMc",
        "colab_type": "code",
        "colab": {
          "autoexec": {
            "startup": false,
            "wait_interval": 0
          }
        }
      },
      "cell_type": "code",
      "source": [
        "from keras.models import Sequential\n",
        "from keras.utils import np_utils\n",
        "from keras.layers import Dense, Dropout, Activation, BatchNormalization\n",
        "from keras.optimizers import rmsprop\n",
        "from keras.callbacks import History\n",
        "from livelossplot import PlotLossesKeras"
      ],
      "execution_count": 0,
      "outputs": []
    },
    {
      "metadata": {
        "id": "Nw6H19vfrKMd",
        "colab_type": "code",
        "colab": {
          "autoexec": {
            "startup": false,
            "wait_interval": 0
          }
        },
        "outputId": "1c92c927-4669-4926-a0bc-88822c91794a"
      },
      "cell_type": "code",
      "source": [
        "model = Sequential()\n",
        "model.add(Dense(128, input_shape=(22011,)))\n",
        "model.add(Activation('relu'))\n",
        "model.add(BatchNormalization())\n",
        "model.add(Dropout(0.5,seed=123))\n",
        "model.add(Dense(3, activation='softmax'))\n",
        "model.summary()"
      ],
      "execution_count": 0,
      "outputs": [
        {
          "output_type": "stream",
          "text": [
            "_________________________________________________________________\n",
            "Layer (type)                 Output Shape              Param #   \n",
            "=================================================================\n",
            "dense_7 (Dense)              (None, 128)               2817536   \n",
            "_________________________________________________________________\n",
            "activation_4 (Activation)    (None, 128)               0         \n",
            "_________________________________________________________________\n",
            "batch_normalization_4 (Batch (None, 128)               512       \n",
            "_________________________________________________________________\n",
            "dropout_4 (Dropout)          (None, 128)               0         \n",
            "_________________________________________________________________\n",
            "dense_8 (Dense)              (None, 3)                 387       \n",
            "=================================================================\n",
            "Total params: 2,818,435\n",
            "Trainable params: 2,818,179\n",
            "Non-trainable params: 256\n",
            "_________________________________________________________________\n"
          ],
          "name": "stdout"
        }
      ]
    },
    {
      "metadata": {
        "id": "TqxzrdjbrKMf",
        "colab_type": "code",
        "colab": {
          "autoexec": {
            "startup": false,
            "wait_interval": 0
          }
        }
      },
      "cell_type": "code",
      "source": [
        "model.compile(loss='categorical_crossentropy',\n",
        "              optimizer=rmsprop(lr=0.0001), metrics=[\"accuracy\"])"
      ],
      "execution_count": 0,
      "outputs": []
    },
    {
      "metadata": {
        "id": "9U9-DogOrKMg",
        "colab_type": "code",
        "colab": {
          "autoexec": {
            "startup": false,
            "wait_interval": 0
          }
        }
      },
      "cell_type": "code",
      "source": [
        "X_dtm = vect.fit_transform(X_train)"
      ],
      "execution_count": 0,
      "outputs": []
    },
    {
      "metadata": {
        "id": "h5dD-YRUrKMk",
        "colab_type": "code",
        "colab": {
          "autoexec": {
            "startup": false,
            "wait_interval": 0
          }
        },
        "outputId": "e155dc23-0ca8-4cf6-8bdc-c4b01e14674a"
      },
      "cell_type": "code",
      "source": [
        "X_dtm.shape, y_train.shape"
      ],
      "execution_count": 0,
      "outputs": [
        {
          "output_type": "execute_result",
          "data": {
            "text/plain": [
              "((9808, 22011), (9808, 3))"
            ]
          },
          "metadata": {
            "tags": []
          },
          "execution_count": 53
        }
      ]
    },
    {
      "metadata": {
        "id": "3HvWTn9yrKMn",
        "colab_type": "code",
        "colab": {
          "autoexec": {
            "startup": false,
            "wait_interval": 0
          }
        },
        "outputId": "6a991de6-0d70-4af2-e75e-cff03830149c"
      },
      "cell_type": "code",
      "source": [
        "np.random.seed(123)\n",
        "batch_size = 1000\n",
        "model.fit(X_dtm, y_train, epochs = 50, verbose = 2, batch_size=batch_size, validation_split=0.1,callbacks=[PlotLossesKeras()])\n"
      ],
      "execution_count": 0,
      "outputs": [
        {
          "output_type": "display_data",
          "data": {
            "image/png": "[encoded data removed]",
            "text/plain": [
              "<matplotlib.figure.Figure at 0x1a2e5c69b0>"
            ]
          },
          "metadata": {
            "tags": []
          }
        },
        {
          "output_type": "execute_result",
          "data": {
            "text/plain": [
              "<keras.callbacks.History at 0x1a2f92d908>"
            ]
          },
          "metadata": {
            "tags": []
          },
          "execution_count": 54
        }
      ]
    },
    {
      "metadata": {
        "id": "LELb24LurKMp",
        "colab_type": "code",
        "colab": {
          "autoexec": {
            "startup": false,
            "wait_interval": 0
          }
        }
      },
      "cell_type": "code",
      "source": [
        "X_test_1 = vect.transform(X_test)"
      ],
      "execution_count": 0,
      "outputs": []
    },
    {
      "metadata": {
        "id": "zEw5zSOKrKMq",
        "colab_type": "code",
        "colab": {
          "autoexec": {
            "startup": false,
            "wait_interval": 0
          }
        }
      },
      "cell_type": "code",
      "source": [
        "model_pred_1 = model.predict_classes(X_test_1)"
      ],
      "execution_count": 0,
      "outputs": []
    },
    {
      "metadata": {
        "id": "MKK80TdMrKMs",
        "colab_type": "code",
        "colab": {
          "autoexec": {
            "startup": false,
            "wait_interval": 0
          }
        }
      },
      "cell_type": "code",
      "source": [
        "y_test_1 = y_test.argmax(axis=1)"
      ],
      "execution_count": 0,
      "outputs": []
    },
    {
      "metadata": {
        "id": "G0TCUWaMrKMt",
        "colab_type": "code",
        "colab": {
          "autoexec": {
            "startup": false,
            "wait_interval": 0
          }
        },
        "outputId": "a71aee85-f147-4dbe-c786-9f7733f318c9"
      },
      "cell_type": "code",
      "source": [
        "print('the prediction model is=',(model_pred_1==y_test_1).mean())"
      ],
      "execution_count": 0,
      "outputs": [
        {
          "output_type": "stream",
          "text": [
            "the prediction model is= 0.792632450331\n"
          ],
          "name": "stdout"
        }
      ]
    },
    {
      "metadata": {
        "id": "F1bncYr8rKMv",
        "colab_type": "text"
      },
      "cell_type": "markdown",
      "source": [
        "All the previous models got an accuracy between 0.62 and 0.65 and using a simple Neural Network the accuracy of the model increase between 0.78 and 0.8."
      ]
    },
    {
      "metadata": {
        "id": "jh5yCGiWrKMw",
        "colab_type": "code",
        "colab": {
          "autoexec": {
            "startup": false,
            "wait_interval": 0
          }
        },
        "outputId": "02c1f24d-2ec8-4f32-9091-f725dbdea455"
      },
      "cell_type": "code",
      "source": [
        "import matplotlib.pyplot as plt\n",
        "plt.figure(figsize=(12,6))\n",
        "plt.bar([\"CountVectorizer\",\"StopWords\",\"ngrams\",\"Stemming\", \"Lemmatization\",\"NN\"],[0.649,0.6343,0.649,0.6212, 0.6209, 0.7926],color=\"orange\",align='center')\n",
        "plt.title(\"Comparison of kernel Initializer\")\n",
        "plt.xlabel(\"\",fontsize=12)\n",
        "plt.ylabel(\"Accuracy\")\n",
        "plt.show()"
      ],
      "execution_count": 0,
      "outputs": [
        {
          "output_type": "display_data",
          "data": {
            "image/png": "[encoded data removed]",
            "text/plain": [
              "<matplotlib.figure.Figure at 0x1162fcda0>"
            ]
          },
          "metadata": {
            "tags": []
          }
        }
      ]
    },
    {
      "metadata": {
        "id": "6HH0ld3Breqe",
        "colab_type": "text"
      },
      "cell_type": "markdown",
      "source": [
        "The best model is NN with  better performance than the others with accuracy 0.79."
      ]
    },
    {
      "metadata": {
        "id": "ocljxoDAroQx",
        "colab_type": "code",
        "colab": {
          "autoexec": {
            "startup": false,
            "wait_interval": 0
          }
        }
      },
      "cell_type": "code",
      "source": [
        ""
      ],
      "execution_count": 0,
      "outputs": []
    }
  ]
}