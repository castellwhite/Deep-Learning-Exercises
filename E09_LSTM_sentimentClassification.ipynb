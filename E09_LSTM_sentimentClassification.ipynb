{
  "nbformat": 4,
  "nbformat_minor": 0,
  "metadata": {
    "colab": {
      "name": "E09-LSTM_sentimentClassification.ipynb",
      "version": "0.3.2",
      "views": {},
      "default_view": {},
      "provenance": [],
      "collapsed_sections": []
    },
    "kernelspec": {
      "display_name": "Python 3",
      "language": "python",
      "name": "python3"
    },
    "accelerator": "GPU"
  },
  "cells": [
    {
      "metadata": {
        "id": "idSdZ7jU-sDb",
        "colab_type": "text"
      },
      "cell_type": "markdown",
      "source": [
        "\n",
        "# Deep Learning Course\n",
        "\n",
        " <img src=\"http://usblogs.pwc.com/emerging-technology/wp-content/uploads/2017/07/deep-learning-900x280.png\" >\n",
        "\n",
        "\n",
        "# Deep Learning Excercise 09\n",
        "## Long short-term memory (LSTM) - Recurrent Neural Netwok \n",
        "\n",
        "\n",
        "Developed by [Sergio Castelblanco](http://www.linkedin.com/in/sergio-castelblanco/) - [Jhon Gonzalez](http://linkedin.com/in/jhon-franklin-gonzalez-gamboa-b6123230/)\n",
        "\n",
        "Andes University\n",
        "\n",
        "version 3.2, July 15 2018"
      ]
    },
    {
      "metadata": {
        "id": "ZZuZvA-V-sDc",
        "colab_type": "text"
      },
      "cell_type": "markdown",
      "source": [
        "# Exercise 09\n",
        "\n",
        "## Sequence Classification using LSTM\n",
        "\n",
        "Sequence classification is a predictive modeling problem where you have some sequence of inputs over space or time and the task is to predict a category for the sequence.\n",
        "\n",
        "What makes this problem difficult is that the sequences can vary in length, be comprised of a very large vocabulary of input symbols and may require the model to learn the long-term context or dependencies between symbols in the input sequence."
      ]
    },
    {
      "metadata": {
        "id": "CHr2kp3S-sDd",
        "colab_type": "text"
      },
      "cell_type": "markdown",
      "source": [
        "[The Large Movie Review Dataset](http://ai.stanford.edu/~amaas/data/sentiment/) (often referred to as the IMDB dataset) contains 25,000 highly-polar movie reviews (good or bad) for training and the same amount again for testing. The problem is to determine whether a given movie review has a positive or negative sentiment."
      ]
    },
    {
      "metadata": {
        "id": "KLcJd7eu-sDe",
        "colab_type": "code",
        "colab": {
          "autoexec": {
            "startup": false,
            "wait_interval": 0
          },
          "base_uri": "https://localhost:8080/",
          "height": 34
        },
        "outputId": "3a289969-6954-4426-dde9-9b7416b0f092",
        "executionInfo": {
          "status": "ok",
          "timestamp": 1531844483892,
          "user_tz": 300,
          "elapsed": 8378,
          "user": {
            "displayName": "sergi castel",
            "photoUrl": "//lh5.googleusercontent.com/-t7uPTy_PD5c/AAAAAAAAAAI/AAAAAAAABjU/YrQqLvCov5A/s50-c-k-no/photo.jpg",
            "userId": "104485759475975710875"
          }
        }
      },
      "cell_type": "code",
      "source": [
        "import numpy as np\n",
        "from keras.datasets import imdb\n",
        "from keras.models import Sequential\n",
        "from keras.layers import Dense\n",
        "from keras.layers import LSTM\n",
        "from keras.layers.embeddings import Embedding\n",
        "from keras.preprocessing import sequence\n",
        "from keras.callbacks import History\n",
        "np.random.seed(7)"
      ],
      "execution_count": 2,
      "outputs": [
        {
          "output_type": "stream",
          "text": [
            "Using TensorFlow backend.\n"
          ],
          "name": "stderr"
        }
      ]
    },
    {
      "metadata": {
        "id": "nutCndbw-sDk",
        "colab_type": "code",
        "colab": {
          "autoexec": {
            "startup": false,
            "wait_interval": 0
          },
          "base_uri": "https://localhost:8080/",
          "height": 819
        },
        "outputId": "380efee0-52cf-4aba-e49c-f2cba40790f5",
        "executionInfo": {
          "status": "ok",
          "timestamp": 1531844588946,
          "user_tz": 300,
          "elapsed": 4161,
          "user": {
            "displayName": "sergi castel",
            "photoUrl": "//lh5.googleusercontent.com/-t7uPTy_PD5c/AAAAAAAAAAI/AAAAAAAABjU/YrQqLvCov5A/s50-c-k-no/photo.jpg",
            "userId": "104485759475975710875"
          }
        }
      },
      "cell_type": "code",
      "source": [
        "!pip3 install livelossplot"
      ],
      "execution_count": 13,
      "outputs": [
        {
          "output_type": "stream",
          "text": [
            "Collecting livelossplot\n",
            "  Downloading https://files.pythonhosted.org/packages/0c/01/3e34559dbdb98580d5e8f62bc3853975c2a2079834bfba2c1bdffe680804/livelossplot-0.2.0.tar.gz\n",
            "Requirement already satisfied: matplotlib in /usr/local/lib/python3.6/dist-packages (from livelossplot) (2.1.2)\n",
            "Requirement already satisfied: notebook in /usr/local/lib/python3.6/dist-packages (from livelossplot) (5.2.2)\n",
            "Requirement already satisfied: python-dateutil>=2.1 in /usr/local/lib/python3.6/dist-packages (from matplotlib->livelossplot) (2.5.3)\n",
            "Requirement already satisfied: numpy>=1.7.1 in /usr/local/lib/python3.6/dist-packages (from matplotlib->livelossplot) (1.14.5)\n",
            "Requirement already satisfied: cycler>=0.10 in /usr/local/lib/python3.6/dist-packages (from matplotlib->livelossplot) (0.10.0)\n",
            "Requirement already satisfied: pyparsing!=2.0.4,!=2.1.2,!=2.1.6,>=2.0.1 in /usr/local/lib/python3.6/dist-packages (from matplotlib->livelossplot) (2.2.0)\n",
            "Requirement already satisfied: pytz in /usr/local/lib/python3.6/dist-packages (from matplotlib->livelossplot) (2018.5)\n",
            "Requirement already satisfied: six>=1.10 in /usr/local/lib/python3.6/dist-packages (from matplotlib->livelossplot) (1.11.0)\n",
            "Requirement already satisfied: nbformat in /usr/local/lib/python3.6/dist-packages (from notebook->livelossplot) (4.4.0)\n",
            "Requirement already satisfied: tornado>=4 in /usr/local/lib/python3.6/dist-packages (from notebook->livelossplot) (4.5.3)\n",
            "Requirement already satisfied: nbconvert in /usr/local/lib/python3.6/dist-packages (from notebook->livelossplot) (5.3.1)\n",
            "Requirement already satisfied: terminado>=0.3.3; sys_platform != \"win32\" in /usr/local/lib/python3.6/dist-packages (from notebook->livelossplot) (0.8.1)\n",
            "Requirement already satisfied: jupyter-client in /usr/local/lib/python3.6/dist-packages (from notebook->livelossplot) (5.2.3)\n",
            "Requirement already satisfied: ipython-genutils in /usr/local/lib/python3.6/dist-packages (from notebook->livelossplot) (0.2.0)\n",
            "Requirement already satisfied: traitlets>=4.2.1 in /usr/local/lib/python3.6/dist-packages (from notebook->livelossplot) (4.3.2)\n",
            "Requirement already satisfied: ipykernel in /usr/local/lib/python3.6/dist-packages (from notebook->livelossplot) (4.6.1)\n",
            "Requirement already satisfied: jupyter-core in /usr/local/lib/python3.6/dist-packages (from notebook->livelossplot) (4.4.0)\n",
            "Requirement already satisfied: jinja2 in /usr/local/lib/python3.6/dist-packages (from notebook->livelossplot) (2.10)\n",
            "Requirement already satisfied: jsonschema!=2.5.0,>=2.4 in /usr/local/lib/python3.6/dist-packages (from nbformat->notebook->livelossplot) (2.6.0)\n",
            "Requirement already satisfied: bleach in /usr/local/lib/python3.6/dist-packages (from nbconvert->notebook->livelossplot) (2.1.3)\n",
            "Requirement already satisfied: entrypoints>=0.2.2 in /usr/local/lib/python3.6/dist-packages (from nbconvert->notebook->livelossplot) (0.2.3)\n",
            "Requirement already satisfied: mistune>=0.7.4 in /usr/local/lib/python3.6/dist-packages (from nbconvert->notebook->livelossplot) (0.8.3)\n",
            "Requirement already satisfied: testpath in /usr/local/lib/python3.6/dist-packages (from nbconvert->notebook->livelossplot) (0.3.1)\n",
            "Requirement already satisfied: pygments in /usr/local/lib/python3.6/dist-packages (from nbconvert->notebook->livelossplot) (2.1.3)\n",
            "Requirement already satisfied: pandocfilters>=1.4.1 in /usr/local/lib/python3.6/dist-packages (from nbconvert->notebook->livelossplot) (1.4.2)\n",
            "Requirement already satisfied: ptyprocess; os_name != \"nt\" in /usr/local/lib/python3.6/dist-packages (from terminado>=0.3.3; sys_platform != \"win32\"->notebook->livelossplot) (0.6.0)\n",
            "Requirement already satisfied: pyzmq>=13 in /usr/local/lib/python3.6/dist-packages (from jupyter-client->notebook->livelossplot) (16.0.4)\n",
            "Requirement already satisfied: decorator in /usr/local/lib/python3.6/dist-packages (from traitlets>=4.2.1->notebook->livelossplot) (4.3.0)\n",
            "Requirement already satisfied: ipython>=4.0.0 in /usr/local/lib/python3.6/dist-packages (from ipykernel->notebook->livelossplot) (5.5.0)\n",
            "Requirement already satisfied: MarkupSafe>=0.23 in /usr/local/lib/python3.6/dist-packages (from jinja2->notebook->livelossplot) (1.0)\n",
            "Requirement already satisfied: html5lib!=1.0b1,!=1.0b2,!=1.0b3,!=1.0b4,!=1.0b5,!=1.0b6,!=1.0b7,!=1.0b8,>=0.99999999pre in /usr/local/lib/python3.6/dist-packages (from bleach->nbconvert->notebook->livelossplot) (1.0.1)\n",
            "Requirement already satisfied: pexpect; sys_platform != \"win32\" in /usr/local/lib/python3.6/dist-packages (from ipython>=4.0.0->ipykernel->notebook->livelossplot) (4.6.0)\n",
            "Requirement already satisfied: simplegeneric>0.8 in /usr/local/lib/python3.6/dist-packages (from ipython>=4.0.0->ipykernel->notebook->livelossplot) (0.8.1)\n",
            "Requirement already satisfied: setuptools>=18.5 in /usr/local/lib/python3.6/dist-packages (from ipython>=4.0.0->ipykernel->notebook->livelossplot) (39.1.0)\n",
            "Requirement already satisfied: pickleshare in /usr/local/lib/python3.6/dist-packages (from ipython>=4.0.0->ipykernel->notebook->livelossplot) (0.7.4)\n",
            "Requirement already satisfied: prompt-toolkit<2.0.0,>=1.0.4 in /usr/local/lib/python3.6/dist-packages (from ipython>=4.0.0->ipykernel->notebook->livelossplot) (1.0.15)\n",
            "Requirement already satisfied: webencodings in /usr/local/lib/python3.6/dist-packages (from html5lib!=1.0b1,!=1.0b2,!=1.0b3,!=1.0b4,!=1.0b5,!=1.0b6,!=1.0b7,!=1.0b8,>=0.99999999pre->bleach->nbconvert->notebook->livelossplot) (0.5.1)\n",
            "Requirement already satisfied: wcwidth in /usr/local/lib/python3.6/dist-packages (from prompt-toolkit<2.0.0,>=1.0.4->ipython>=4.0.0->ipykernel->notebook->livelossplot) (0.1.7)\n",
            "Building wheels for collected packages: livelossplot\n",
            "  Running setup.py bdist_wheel for livelossplot ... \u001b[?25l-\b \b\\\b \bdone\n",
            "\u001b[?25h  Stored in directory: /content/.cache/pip/wheels/67/8b/e9/3990164e3b2a421145b9d9d76fc8aa889225d495b043faeb73\n",
            "Successfully built livelossplot\n",
            "Installing collected packages: livelossplot\n",
            "Successfully installed livelossplot-0.2.0\n"
          ],
          "name": "stdout"
        }
      ]
    },
    {
      "metadata": {
        "id": "F1SRH8Oy-sDn",
        "colab_type": "code",
        "colab": {
          "autoexec": {
            "startup": false,
            "wait_interval": 0
          },
          "base_uri": "https://localhost:8080/",
          "height": 51
        },
        "outputId": "464aa96c-706c-4f23-fbfe-cf5a012ad59f",
        "executionInfo": {
          "status": "ok",
          "timestamp": 1531844497262,
          "user_tz": 300,
          "elapsed": 7588,
          "user": {
            "displayName": "sergi castel",
            "photoUrl": "//lh5.googleusercontent.com/-t7uPTy_PD5c/AAAAAAAAAAI/AAAAAAAABjU/YrQqLvCov5A/s50-c-k-no/photo.jpg",
            "userId": "104485759475975710875"
          }
        }
      },
      "cell_type": "code",
      "source": [
        "# load the dataset but only keep the top n words, zero the rest\n",
        "top_words = 5000\n",
        "index_from = 3\n",
        "(X_train, y_train), (X_test, y_test) = imdb.load_data(num_words=top_words, index_from=index_from)"
      ],
      "execution_count": 3,
      "outputs": [
        {
          "output_type": "stream",
          "text": [
            "Downloading data from https://s3.amazonaws.com/text-datasets/imdb.npz\n",
            "17465344/17464789 [==============================] - 1s 0us/step\n"
          ],
          "name": "stdout"
        }
      ]
    },
    {
      "metadata": {
        "id": "SolD1w4T-sDr",
        "colab_type": "code",
        "colab": {
          "autoexec": {
            "startup": false,
            "wait_interval": 0
          },
          "base_uri": "https://localhost:8080/",
          "height": 34
        },
        "outputId": "a11b7739-d58a-4cf8-c039-da565cbef250",
        "executionInfo": {
          "status": "ok",
          "timestamp": 1531844504090,
          "user_tz": 300,
          "elapsed": 1007,
          "user": {
            "displayName": "sergi castel",
            "photoUrl": "//lh5.googleusercontent.com/-t7uPTy_PD5c/AAAAAAAAAAI/AAAAAAAABjU/YrQqLvCov5A/s50-c-k-no/photo.jpg",
            "userId": "104485759475975710875"
          }
        }
      },
      "cell_type": "code",
      "source": [
        "y_train[0]"
      ],
      "execution_count": 4,
      "outputs": [
        {
          "output_type": "execute_result",
          "data": {
            "text/plain": [
              "1"
            ]
          },
          "metadata": {
            "tags": []
          },
          "execution_count": 4
        }
      ]
    },
    {
      "metadata": {
        "id": "8PYzZl6Z-sDw",
        "colab_type": "code",
        "colab": {
          "autoexec": {
            "startup": false,
            "wait_interval": 0
          },
          "base_uri": "https://localhost:8080/",
          "height": 34
        },
        "outputId": "66b35375-68b3-4635-8f3c-71cf68da099a",
        "executionInfo": {
          "status": "ok",
          "timestamp": 1531844506187,
          "user_tz": 300,
          "elapsed": 2003,
          "user": {
            "displayName": "sergi castel",
            "photoUrl": "//lh5.googleusercontent.com/-t7uPTy_PD5c/AAAAAAAAAAI/AAAAAAAABjU/YrQqLvCov5A/s50-c-k-no/photo.jpg",
            "userId": "104485759475975710875"
          }
        }
      },
      "cell_type": "code",
      "source": [
        "np.min([np.min(x) for x in X_train]), np.max([np.max(x) for x in X_train])"
      ],
      "execution_count": 5,
      "outputs": [
        {
          "output_type": "execute_result",
          "data": {
            "text/plain": [
              "(1, 4999)"
            ]
          },
          "metadata": {
            "tags": []
          },
          "execution_count": 5
        }
      ]
    },
    {
      "metadata": {
        "id": "FmjmglQF-sDz",
        "colab_type": "text"
      },
      "cell_type": "markdown",
      "source": [
        "The words have been replaced by integers that indicate the ordered frequency of each word in the dataset. The sentences in each review are therefore comprised of a sequence of integers."
      ]
    },
    {
      "metadata": {
        "id": "FGcalHD9-sDz",
        "colab_type": "code",
        "colab": {
          "autoexec": {
            "startup": false,
            "wait_interval": 0
          },
          "base_uri": "https://localhost:8080/",
          "height": 34
        },
        "outputId": "3ae7bcfa-2a3d-45d9-c033-48dfdc742769",
        "executionInfo": {
          "status": "ok",
          "timestamp": 1531844507190,
          "user_tz": 300,
          "elapsed": 974,
          "user": {
            "displayName": "sergi castel",
            "photoUrl": "//lh5.googleusercontent.com/-t7uPTy_PD5c/AAAAAAAAAAI/AAAAAAAABjU/YrQqLvCov5A/s50-c-k-no/photo.jpg",
            "userId": "104485759475975710875"
          }
        }
      },
      "cell_type": "code",
      "source": [
        "X_train.shape"
      ],
      "execution_count": 6,
      "outputs": [
        {
          "output_type": "execute_result",
          "data": {
            "text/plain": [
              "(25000,)"
            ]
          },
          "metadata": {
            "tags": []
          },
          "execution_count": 6
        }
      ]
    },
    {
      "metadata": {
        "id": "PRKYfyAC-sD2",
        "colab_type": "code",
        "colab": {
          "autoexec": {
            "startup": false,
            "wait_interval": 0
          },
          "base_uri": "https://localhost:8080/",
          "height": 54
        },
        "outputId": "6adcaf6c-900f-4537-841b-9b6e686aa0cb",
        "executionInfo": {
          "status": "ok",
          "timestamp": 1531844508090,
          "user_tz": 300,
          "elapsed": 807,
          "user": {
            "displayName": "sergi castel",
            "photoUrl": "//lh5.googleusercontent.com/-t7uPTy_PD5c/AAAAAAAAAAI/AAAAAAAABjU/YrQqLvCov5A/s50-c-k-no/photo.jpg",
            "userId": "104485759475975710875"
          }
        }
      },
      "cell_type": "code",
      "source": [
        "print(X_train[0])"
      ],
      "execution_count": 7,
      "outputs": [
        {
          "output_type": "stream",
          "text": [
            "[1, 14, 22, 16, 43, 530, 973, 1622, 1385, 65, 458, 4468, 66, 3941, 4, 173, 36, 256, 5, 25, 100, 43, 838, 112, 50, 670, 2, 9, 35, 480, 284, 5, 150, 4, 172, 112, 167, 2, 336, 385, 39, 4, 172, 4536, 1111, 17, 546, 38, 13, 447, 4, 192, 50, 16, 6, 147, 2025, 19, 14, 22, 4, 1920, 4613, 469, 4, 22, 71, 87, 12, 16, 43, 530, 38, 76, 15, 13, 1247, 4, 22, 17, 515, 17, 12, 16, 626, 18, 2, 5, 62, 386, 12, 8, 316, 8, 106, 5, 4, 2223, 2, 16, 480, 66, 3785, 33, 4, 130, 12, 16, 38, 619, 5, 25, 124, 51, 36, 135, 48, 25, 1415, 33, 6, 22, 12, 215, 28, 77, 52, 5, 14, 407, 16, 82, 2, 8, 4, 107, 117, 2, 15, 256, 4, 2, 7, 3766, 5, 723, 36, 71, 43, 530, 476, 26, 400, 317, 46, 7, 4, 2, 1029, 13, 104, 88, 4, 381, 15, 297, 98, 32, 2071, 56, 26, 141, 6, 194, 2, 18, 4, 226, 22, 21, 134, 476, 26, 480, 5, 144, 30, 2, 18, 51, 36, 28, 224, 92, 25, 104, 4, 226, 65, 16, 38, 1334, 88, 12, 16, 283, 5, 16, 4472, 113, 103, 32, 15, 16, 2, 19, 178, 32]\n"
          ],
          "name": "stdout"
        }
      ]
    },
    {
      "metadata": {
        "id": "WCOv6dEh-sD6",
        "colab_type": "text"
      },
      "cell_type": "markdown",
      "source": [
        "Next, we need to truncate and pad the input sequences so that they are all the same length for modeling. The model will learn the zero values carry no information so indeed the sequences are not the same length in terms of content, but same length vectors is required to perform the computation in Keras."
      ]
    },
    {
      "metadata": {
        "id": "J4RXjS04-sD9",
        "colab_type": "code",
        "colab": {
          "autoexec": {
            "startup": false,
            "wait_interval": 0
          }
        }
      },
      "cell_type": "code",
      "source": [
        "# truncate and pad input sequences\n",
        "max_review_length = 500\n",
        "X_train_pad = sequence.pad_sequences(X_train, maxlen=max_review_length)\n",
        "X_test_pad = sequence.pad_sequences(X_test, maxlen=max_review_length)"
      ],
      "execution_count": 0,
      "outputs": []
    },
    {
      "metadata": {
        "id": "IokHPpyV-sEL",
        "colab_type": "code",
        "colab": {
          "autoexec": {
            "startup": false,
            "wait_interval": 0
          },
          "base_uri": "https://localhost:8080/",
          "height": 34
        },
        "outputId": "c5c4b7fe-8871-46bc-ca59-7000d0b13d5e",
        "executionInfo": {
          "status": "ok",
          "timestamp": 1531844511226,
          "user_tz": 300,
          "elapsed": 996,
          "user": {
            "displayName": "sergi castel",
            "photoUrl": "//lh5.googleusercontent.com/-t7uPTy_PD5c/AAAAAAAAAAI/AAAAAAAABjU/YrQqLvCov5A/s50-c-k-no/photo.jpg",
            "userId": "104485759475975710875"
          }
        }
      },
      "cell_type": "code",
      "source": [
        "X_train_pad.shape"
      ],
      "execution_count": 9,
      "outputs": [
        {
          "output_type": "execute_result",
          "data": {
            "text/plain": [
              "(25000, 500)"
            ]
          },
          "metadata": {
            "tags": []
          },
          "execution_count": 9
        }
      ]
    },
    {
      "metadata": {
        "id": "9RwUCQTI-sER",
        "colab_type": "text"
      },
      "cell_type": "markdown",
      "source": [
        "### Word Embedding\n",
        "\n",
        "We will map each movie review into a real vector domain, a popular technique when working with text called word embedding. This is a technique where words are encoded as real-valued vectors in a high dimensional space, where the similarity between words in terms of meaning translates to closeness in the vector space.\n",
        "\n",
        "Keras provides a convenient way to convert positive integer representations of words into a word embedding by an Embedding layer.\n",
        "\n",
        "We will map each word onto a 32 length real valued vector. We will also limit the total number of words that we are interested in modeling to the 5000 most frequent words, and zero out the rest. Finally, the sequence length (number of words) in each review varies, so we will constrain each review to be 500 words, truncating long reviews and pad the shorter reviews with zero values.\n",
        "\n",
        "Now that we have defined our problem and how the data will be prepared and modeled, we are ready to develop an LSTM model to classify the sentiment of movie reviews."
      ]
    },
    {
      "metadata": {
        "id": "LU_jy3ku-sET",
        "colab_type": "text"
      },
      "cell_type": "markdown",
      "source": [
        "# Exercise 09.1\n",
        "\n",
        "Train a Deep Neural Network with the following architecture:\n",
        "\n",
        "- Input = pad_sequences (input_length=max_review_length)\n",
        "- Embedding(top_words, 32, input_length)\n",
        "- LSTM(100)\n",
        "- Dense(1, sigmoid)\n",
        "\n",
        "Optimized using adam using as loss binary_crossentropy\n",
        "\n",
        "Hints: \n",
        "- test with two iterations then try more. \n",
        "- learning can be ajusted\n",
        "\n",
        "Evaluate the performance using the testing set (accuracy aprox 87% with 10 epochs)"
      ]
    },
    {
      "metadata": {
        "id": "Z2SU332T-sEd",
        "colab_type": "code",
        "colab": {
          "autoexec": {
            "startup": false,
            "wait_interval": 0
          },
          "base_uri": "https://localhost:8080/",
          "height": 238
        },
        "outputId": "003f1cee-370f-42c9-d3e8-584bef9729c6",
        "executionInfo": {
          "status": "ok",
          "timestamp": 1531844514499,
          "user_tz": 300,
          "elapsed": 1049,
          "user": {
            "displayName": "sergi castel",
            "photoUrl": "//lh5.googleusercontent.com/-t7uPTy_PD5c/AAAAAAAAAAI/AAAAAAAABjU/YrQqLvCov5A/s50-c-k-no/photo.jpg",
            "userId": "104485759475975710875"
          }
        }
      },
      "cell_type": "code",
      "source": [
        "from keras.optimizers import adam\n",
        "from keras.optimizers import SGD\n",
        "from keras.optimizers import adamax\n",
        "from keras.models import Sequential\n",
        "from keras.layers.recurrent import LSTM\n",
        "from keras.layers.core import Dense, Dropout\n",
        "from keras.layers.embeddings import Embedding\n",
        "from keras.preprocessing import sequence\n",
        "#from livelossplot import PlotLossesKeras\n",
        "\n",
        "model = Sequential()\n",
        "model.add(Embedding(top_words, 32, input_length=max_review_length))\n",
        "model.add(LSTM(100))\n",
        "#model.add(Dropout(0.5))\n",
        "model.add(Dense(1, activation='sigmoid'))\n",
        "model.compile(loss='binary_crossentropy', optimizer='adam', metrics=['accuracy'])\n",
        "\n",
        "model.summary()"
      ],
      "execution_count": 10,
      "outputs": [
        {
          "output_type": "stream",
          "text": [
            "_________________________________________________________________\n",
            "Layer (type)                 Output Shape              Param #   \n",
            "=================================================================\n",
            "embedding_1 (Embedding)      (None, 500, 32)           160000    \n",
            "_________________________________________________________________\n",
            "lstm_1 (LSTM)                (None, 100)               53200     \n",
            "_________________________________________________________________\n",
            "dense_1 (Dense)              (None, 1)                 101       \n",
            "=================================================================\n",
            "Total params: 213,301\n",
            "Trainable params: 213,301\n",
            "Non-trainable params: 0\n",
            "_________________________________________________________________\n"
          ],
          "name": "stdout"
        }
      ]
    },
    {
      "metadata": {
        "id": "uCo8D-Co-sE7",
        "colab_type": "code",
        "colab": {
          "autoexec": {
            "startup": false,
            "wait_interval": 0
          },
          "base_uri": "https://localhost:8080/",
          "height": 343
        },
        "outputId": "209ee831-1d8a-44b9-cb36-474193443a6f",
        "executionInfo": {
          "status": "ok",
          "timestamp": 1531845152930,
          "user_tz": 300,
          "elapsed": 9,
          "user": {
            "displayName": "sergi castel",
            "photoUrl": "//lh5.googleusercontent.com/-t7uPTy_PD5c/AAAAAAAAAAI/AAAAAAAABjU/YrQqLvCov5A/s50-c-k-no/photo.jpg",
            "userId": "104485759475975710875"
          }
        }
      },
      "cell_type": "code",
      "source": [
        "from livelossplot import PlotLossesKeras\n",
        "%matplotlib inline\n",
        "model.fit(X_train_pad,y_train, validation_data=[X_test_pad, y_test], \n",
        "          batch_size=128, epochs=2, verbose=1,\n",
        "          callbacks=[PlotLossesKeras()])"
      ],
      "execution_count": 14,
      "outputs": [
        {
          "output_type": "display_data",
          "data": {
            "image/png": "[encoded data removed]",
            "text/plain": [
              "<matplotlib.figure.Figure at 0x7ff87dddcc88>"
            ]
          },
          "metadata": {
            "tags": []
          }
        },
        {
          "output_type": "execute_result",
          "data": {
            "text/plain": [
              "<keras.callbacks.History at 0x7ff8d5d7ce48>"
            ]
          },
          "metadata": {
            "tags": []
          },
          "execution_count": 14
        }
      ]
    },
    {
      "metadata": {
        "id": "ykhld4zF-sFG",
        "colab_type": "text"
      },
      "cell_type": "markdown",
      "source": [
        "We carry out the build of the neural net with the architecture propose, this model with 2 Epoch has an `accuracy of 0.85`"
      ]
    },
    {
      "metadata": {
        "id": "WlSakBfm-sFK",
        "colab_type": "text"
      },
      "cell_type": "markdown",
      "source": [
        "Later, we run the same deep neural network with 20 epoch"
      ]
    },
    {
      "metadata": {
        "id": "EXl1iQ20-sFQ",
        "colab_type": "code",
        "colab": {
          "autoexec": {
            "startup": false,
            "wait_interval": 0
          },
          "base_uri": "https://localhost:8080/",
          "height": 343
        },
        "outputId": "2bb429e9-b2bd-4c08-9560-be13ca8d4b71",
        "executionInfo": {
          "status": "ok",
          "timestamp": 1531850591500,
          "user_tz": 300,
          "elapsed": 230,
          "user": {
            "displayName": "sergi castel",
            "photoUrl": "//lh5.googleusercontent.com/-t7uPTy_PD5c/AAAAAAAAAAI/AAAAAAAABjU/YrQqLvCov5A/s50-c-k-no/photo.jpg",
            "userId": "104485759475975710875"
          }
        }
      },
      "cell_type": "code",
      "source": [
        "model.fit(X_train_pad,y_train, validation_data=[X_test_pad, y_test], \n",
        "          batch_size=128, epochs=20, verbose=1,\n",
        "          callbacks=[PlotLossesKeras()])"
      ],
      "execution_count": 15,
      "outputs": [
        {
          "output_type": "display_data",
          "data": {
            "image/png": "[encoded data removed]",
            "text/plain": [
              "<matplotlib.figure.Figure at 0x7ff879c253c8>"
            ]
          },
          "metadata": {
            "tags": []
          }
        },
        {
          "output_type": "execute_result",
          "data": {
            "text/plain": [
              "<keras.callbacks.History at 0x7ff87dd9bd30>"
            ]
          },
          "metadata": {
            "tags": []
          },
          "execution_count": 15
        }
      ]
    },
    {
      "metadata": {
        "id": "A5rpuKkcavmJ",
        "colab_type": "text"
      },
      "cell_type": "markdown",
      "source": [
        "We can see in the last plot (Accuracy) that the training line has a growth exponential and the validation data has a linear and constant tend, Then, with 20 epoch the accuracy is 0.86. The loss function in both lines has a exponential behavior while the training data decreases the validation  curve grows until 0.6."
      ]
    },
    {
      "metadata": {
        "id": "-AYEmGAQ-sFi",
        "colab_type": "text"
      },
      "cell_type": "markdown",
      "source": [
        "# Exercise 09.2\n",
        "\n",
        "Predict the sentiment of the following reviews"
      ]
    },
    {
      "metadata": {
        "id": "csCWveQB-sFk",
        "colab_type": "code",
        "colab": {
          "autoexec": {
            "startup": false,
            "wait_interval": 0
          }
        }
      },
      "cell_type": "code",
      "source": [
        "reviews = [\"I was fortunate enough to see this movie on pre-release last night and, though I wasn't expecting to, actually really enjoyed the movie for the most part. The rescues and sea effects were amazing to watch and definitely provided edge of the seat tense moments, probably all the more so knowing that there are guys who do this for a living. The weaker parts of the movie revolve largely around using stereotypical set scenes. I'm not going to spoil the movie but this really follows along the lines of An Officer and a Gentleman and those moments give it a little bit of a cheesy aftertaste.<br /><br />Like I said over all this movie is pretty good and worth checking out as long as you can get past the clichés.\",\n",
        "           '\"The Dresser\" is perhaps the most refined of backstage films. The film is brimming with wit and spirit, for the most part provided by the \"energetic\" character of Norman (Tom Courtenay). Although his character is clearly gay, and certainly has an attraction for the lead performer (Albert Finney) that he assists, the film never dwells on it or makes it more than it is.<br /><br />The gritty style of Peter Yates that worked so well in \"Bullitt\" is again on display, and gives the film a sense of realism and coherence. This is much appreciated in a story that could so easily have become tedious. In the end, \"The Dresser\" will bore many people silly, but it will truly be a delight to those who love British cinema.<br /><br />7.7 out of 10',\n",
        "           \"So real and surreal, all in one. I remember feeling like Tessa. Heck, I remember being Tessa. This was a beautiful vignette of a relationship ending. I especially liked the protesters tangent. It is nice to see symbolism in a movie without being smacked over the head with it. If you get the chance to see this, take it. It is well worth the 30 minutes.\",\n",
        "           \"This is a pale imitation of 'Officer and a Gentleman.' There is NO chemistry between Kutcher and the unknown woman who plays his love interest. The dialog is wooden, the situations hackneyed. It's too long and the climax is anti-climactic(!). I love the USCG, its men and women are fearless and tough. The action scenes are awesome, but this movie doesn't do much for recruiting, I fear. The script is formulaic, but confusing. Kutcher's character is trying to redeem himself for an accident that wasn't his fault? Costner's is raging against the dying of the light, but why? His 'conflict' with his wife is about as deep as a mud puddle. I saw this sneak preview for free and certainly felt I got my money's worth.\",\n",
        "           \"I was at Wrestlemania VI in Toronto as a 10 year old, and the event I saw then was pretty different from what I saw on the Wrestlemania Collection DVD I just watched. I don't understand how the wwE doesn't have the rights to some of the old music, since most of those songs were created by the WWF they shouldn't have to worry about the licensing and royalty fees that prevent shows like SNL from releasing season sets. Its pretty stupid to whine about, but for me hearing Demolition come out to their theme music at a Wrestlemania in person was a memory that I never forgot, and it didn't exist on this DVD. What is the point of them even owning the rights to this huge library of video if they have to edit it so drastically to use it?\",\n",
        "           \"Wow! What a movie if you want to blow your budget on the title and have it look real bad ask the guys that made this movie on how to do that. They could have spent the money on a good rewrite or something else. Or they could have spent it on beer when they made this movie at least it would have come out better.\"\n",
        "          ]"
      ],
      "execution_count": 0,
      "outputs": []
    },
    {
      "metadata": {
        "id": "E2sjwTcP-sFs",
        "colab_type": "text"
      },
      "cell_type": "markdown",
      "source": [
        "Reviews must be preprocessed"
      ]
    },
    {
      "metadata": {
        "id": "w8oXF1wX-sFv",
        "colab_type": "code",
        "colab": {
          "autoexec": {
            "startup": false,
            "wait_interval": 0
          },
          "base_uri": "https://localhost:8080/",
          "height": 51
        },
        "outputId": "66c66fae-3109-42ba-b302-48e964a2138d",
        "executionInfo": {
          "status": "ok",
          "timestamp": 1531852241015,
          "user_tz": 300,
          "elapsed": 1477,
          "user": {
            "displayName": "sergi castel",
            "photoUrl": "//lh5.googleusercontent.com/-t7uPTy_PD5c/AAAAAAAAAAI/AAAAAAAABjU/YrQqLvCov5A/s50-c-k-no/photo.jpg",
            "userId": "104485759475975710875"
          }
        }
      },
      "cell_type": "code",
      "source": [
        "from keras.datasets.imdb import get_word_index\n",
        "\n",
        "vocab = get_word_index()\n",
        "\n",
        "vocab = {k:(v+index_from) for k,v in vocab.items()}\n",
        "vocab[\"<PAD>\"] = 0\n",
        "vocab[\"<START>\"] = 1\n",
        "vocab[\"<UNK>\"] = 2"
      ],
      "execution_count": 17,
      "outputs": [
        {
          "output_type": "stream",
          "text": [
            "Downloading data from https://s3.amazonaws.com/text-datasets/imdb_word_index.json\n",
            "1646592/1641221 [==============================] - 0s 0us/step\n"
          ],
          "name": "stdout"
        }
      ]
    },
    {
      "metadata": {
        "id": "l2s35-Zu-sF2",
        "colab_type": "code",
        "colab": {
          "autoexec": {
            "startup": false,
            "wait_interval": 0
          },
          "base_uri": "https://localhost:8080/",
          "height": 187
        },
        "outputId": "c15bcc19-f580-4815-943d-1ca236f8b894",
        "executionInfo": {
          "status": "ok",
          "timestamp": 1531852244086,
          "user_tz": 300,
          "elapsed": 831,
          "user": {
            "displayName": "sergi castel",
            "photoUrl": "//lh5.googleusercontent.com/-t7uPTy_PD5c/AAAAAAAAAAI/AAAAAAAABjU/YrQqLvCov5A/s50-c-k-no/photo.jpg",
            "userId": "104485759475975710875"
          }
        }
      },
      "cell_type": "code",
      "source": [
        "{k:vocab[k] for k in list(vocab.keys())[:10]}"
      ],
      "execution_count": 18,
      "outputs": [
        {
          "output_type": "execute_result",
          "data": {
            "text/plain": [
              "{'fawn': 34704,\n",
              " 'hanging': 2348,\n",
              " 'nunnery': 52010,\n",
              " 'sonja': 16819,\n",
              " 'spiders': 16118,\n",
              " 'trawling': 52011,\n",
              " 'tsukino': 52009,\n",
              " 'vani': 63954,\n",
              " 'woods': 1411,\n",
              " 'woody': 2292}"
            ]
          },
          "metadata": {
            "tags": []
          },
          "execution_count": 18
        }
      ]
    },
    {
      "metadata": {
        "id": "DNucnrJo-sF_",
        "colab_type": "text"
      },
      "cell_type": "markdown",
      "source": [
        " Lets see how X_train is encoded"
      ]
    },
    {
      "metadata": {
        "id": "JSfuo7fu-sGA",
        "colab_type": "code",
        "colab": {
          "autoexec": {
            "startup": false,
            "wait_interval": 0
          },
          "base_uri": "https://localhost:8080/",
          "height": 799
        },
        "outputId": "605cc75e-26c9-4a1a-91f3-1eaf1740c0db",
        "executionInfo": {
          "status": "ok",
          "timestamp": 1531852246876,
          "user_tz": 300,
          "elapsed": 861,
          "user": {
            "displayName": "sergi castel",
            "photoUrl": "//lh5.googleusercontent.com/-t7uPTy_PD5c/AAAAAAAAAAI/AAAAAAAABjU/YrQqLvCov5A/s50-c-k-no/photo.jpg",
            "userId": "104485759475975710875"
          }
        }
      },
      "cell_type": "code",
      "source": [
        "X_train_pad[0]"
      ],
      "execution_count": 19,
      "outputs": [
        {
          "output_type": "execute_result",
          "data": {
            "text/plain": [
              "array([   0,    0,    0,    0,    0,    0,    0,    0,    0,    0,    0,\n",
              "          0,    0,    0,    0,    0,    0,    0,    0,    0,    0,    0,\n",
              "          0,    0,    0,    0,    0,    0,    0,    0,    0,    0,    0,\n",
              "          0,    0,    0,    0,    0,    0,    0,    0,    0,    0,    0,\n",
              "          0,    0,    0,    0,    0,    0,    0,    0,    0,    0,    0,\n",
              "          0,    0,    0,    0,    0,    0,    0,    0,    0,    0,    0,\n",
              "          0,    0,    0,    0,    0,    0,    0,    0,    0,    0,    0,\n",
              "          0,    0,    0,    0,    0,    0,    0,    0,    0,    0,    0,\n",
              "          0,    0,    0,    0,    0,    0,    0,    0,    0,    0,    0,\n",
              "          0,    0,    0,    0,    0,    0,    0,    0,    0,    0,    0,\n",
              "          0,    0,    0,    0,    0,    0,    0,    0,    0,    0,    0,\n",
              "          0,    0,    0,    0,    0,    0,    0,    0,    0,    0,    0,\n",
              "          0,    0,    0,    0,    0,    0,    0,    0,    0,    0,    0,\n",
              "          0,    0,    0,    0,    0,    0,    0,    0,    0,    0,    0,\n",
              "          0,    0,    0,    0,    0,    0,    0,    0,    0,    0,    0,\n",
              "          0,    0,    0,    0,    0,    0,    0,    0,    0,    0,    0,\n",
              "          0,    0,    0,    0,    0,    0,    0,    0,    0,    0,    0,\n",
              "          0,    0,    0,    0,    0,    0,    0,    0,    0,    0,    0,\n",
              "          0,    0,    0,    0,    0,    0,    0,    0,    0,    0,    0,\n",
              "          0,    0,    0,    0,    0,    0,    0,    0,    0,    0,    0,\n",
              "          0,    0,    0,    0,    0,    0,    0,    0,    0,    0,    0,\n",
              "          0,    0,    0,    0,    0,    0,    0,    0,    0,    0,    0,\n",
              "          0,    0,    0,    0,    0,    0,    0,    0,    0,    0,    0,\n",
              "          0,    0,    0,    0,    0,    0,    0,    0,    0,    0,    0,\n",
              "          0,    0,    0,    0,    0,    0,    0,    0,    0,    0,    0,\n",
              "          0,    0,    0,    0,    0,    0,    0,    1,   14,   22,   16,\n",
              "         43,  530,  973, 1622, 1385,   65,  458, 4468,   66, 3941,    4,\n",
              "        173,   36,  256,    5,   25,  100,   43,  838,  112,   50,  670,\n",
              "          2,    9,   35,  480,  284,    5,  150,    4,  172,  112,  167,\n",
              "          2,  336,  385,   39,    4,  172, 4536, 1111,   17,  546,   38,\n",
              "         13,  447,    4,  192,   50,   16,    6,  147, 2025,   19,   14,\n",
              "         22,    4, 1920, 4613,  469,    4,   22,   71,   87,   12,   16,\n",
              "         43,  530,   38,   76,   15,   13, 1247,    4,   22,   17,  515,\n",
              "         17,   12,   16,  626,   18,    2,    5,   62,  386,   12,    8,\n",
              "        316,    8,  106,    5,    4, 2223,    2,   16,  480,   66, 3785,\n",
              "         33,    4,  130,   12,   16,   38,  619,    5,   25,  124,   51,\n",
              "         36,  135,   48,   25, 1415,   33,    6,   22,   12,  215,   28,\n",
              "         77,   52,    5,   14,  407,   16,   82,    2,    8,    4,  107,\n",
              "        117,    2,   15,  256,    4,    2,    7, 3766,    5,  723,   36,\n",
              "         71,   43,  530,  476,   26,  400,  317,   46,    7,    4,    2,\n",
              "       1029,   13,  104,   88,    4,  381,   15,  297,   98,   32, 2071,\n",
              "         56,   26,  141,    6,  194,    2,   18,    4,  226,   22,   21,\n",
              "        134,  476,   26,  480,    5,  144,   30,    2,   18,   51,   36,\n",
              "         28,  224,   92,   25,  104,    4,  226,   65,   16,   38, 1334,\n",
              "         88,   12,   16,  283,    5,   16, 4472,  113,  103,   32,   15,\n",
              "         16,    2,   19,  178,   32], dtype=int32)"
            ]
          },
          "metadata": {
            "tags": []
          },
          "execution_count": 19
        }
      ]
    },
    {
      "metadata": {
        "id": "v3IhYMc3-sGL",
        "colab_type": "code",
        "colab": {
          "autoexec": {
            "startup": false,
            "wait_interval": 0
          },
          "base_uri": "https://localhost:8080/",
          "height": 54
        },
        "outputId": "ef8a90cc-b879-4a3c-ac62-d9ddbb5a1212",
        "executionInfo": {
          "status": "ok",
          "timestamp": 1531852249076,
          "user_tz": 300,
          "elapsed": 821,
          "user": {
            "displayName": "sergi castel",
            "photoUrl": "//lh5.googleusercontent.com/-t7uPTy_PD5c/AAAAAAAAAAI/AAAAAAAABjU/YrQqLvCov5A/s50-c-k-no/photo.jpg",
            "userId": "104485759475975710875"
          }
        }
      },
      "cell_type": "code",
      "source": [
        "print(X_train[0])"
      ],
      "execution_count": 20,
      "outputs": [
        {
          "output_type": "stream",
          "text": [
            "[1, 14, 22, 16, 43, 530, 973, 1622, 1385, 65, 458, 4468, 66, 3941, 4, 173, 36, 256, 5, 25, 100, 43, 838, 112, 50, 670, 2, 9, 35, 480, 284, 5, 150, 4, 172, 112, 167, 2, 336, 385, 39, 4, 172, 4536, 1111, 17, 546, 38, 13, 447, 4, 192, 50, 16, 6, 147, 2025, 19, 14, 22, 4, 1920, 4613, 469, 4, 22, 71, 87, 12, 16, 43, 530, 38, 76, 15, 13, 1247, 4, 22, 17, 515, 17, 12, 16, 626, 18, 2, 5, 62, 386, 12, 8, 316, 8, 106, 5, 4, 2223, 2, 16, 480, 66, 3785, 33, 4, 130, 12, 16, 38, 619, 5, 25, 124, 51, 36, 135, 48, 25, 1415, 33, 6, 22, 12, 215, 28, 77, 52, 5, 14, 407, 16, 82, 2, 8, 4, 107, 117, 2, 15, 256, 4, 2, 7, 3766, 5, 723, 36, 71, 43, 530, 476, 26, 400, 317, 46, 7, 4, 2, 1029, 13, 104, 88, 4, 381, 15, 297, 98, 32, 2071, 56, 26, 141, 6, 194, 2, 18, 4, 226, 22, 21, 134, 476, 26, 480, 5, 144, 30, 2, 18, 51, 36, 28, 224, 92, 25, 104, 4, 226, 65, 16, 38, 1334, 88, 12, 16, 283, 5, 16, 4472, 113, 103, 32, 15, 16, 2, 19, 178, 32]\n"
          ],
          "name": "stdout"
        }
      ]
    },
    {
      "metadata": {
        "id": "1_Q1l_mM-sGR",
        "colab_type": "text"
      },
      "cell_type": "markdown",
      "source": [
        "Lets get the text"
      ]
    },
    {
      "metadata": {
        "id": "XGHRNGMz-sGT",
        "colab_type": "code",
        "colab": {
          "autoexec": {
            "startup": false,
            "wait_interval": 0
          },
          "base_uri": "https://localhost:8080/",
          "height": 54
        },
        "outputId": "48516ba7-67cc-4cdd-f16c-d029b9bd2f35",
        "executionInfo": {
          "status": "ok",
          "timestamp": 1531852249803,
          "user_tz": 300,
          "elapsed": 655,
          "user": {
            "displayName": "sergi castel",
            "photoUrl": "//lh5.googleusercontent.com/-t7uPTy_PD5c/AAAAAAAAAAI/AAAAAAAABjU/YrQqLvCov5A/s50-c-k-no/photo.jpg",
            "userId": "104485759475975710875"
          }
        }
      },
      "cell_type": "code",
      "source": [
        "id_to_word = {value:key for key,value in vocab.items()}\n",
        "print(' '.join(id_to_word[id] for id in X_train[0] ))"
      ],
      "execution_count": 21,
      "outputs": [
        {
          "output_type": "stream",
          "text": [
            "<START> this film was just brilliant casting location scenery story direction everyone's really suited the part they played and you could just imagine being there robert <UNK> is an amazing actor and now the same being director <UNK> father came from the same scottish island as myself so i loved the fact there was a real connection with this film the witty remarks throughout the film were great it was just brilliant so much that i bought the film as soon as it was released for <UNK> and would recommend it to everyone to watch and the fly <UNK> was amazing really cried at the end it was so sad and you know what they say if you cry at a film it must have been good and this definitely was also <UNK> to the two little <UNK> that played the <UNK> of norman and paul they were just brilliant children are often left out of the <UNK> list i think because the stars that play them all grown up are such a big <UNK> for the whole film but these children are amazing and should be <UNK> for what they have done don't you think the whole story was so lovely because it was true and was someone's life after all that was <UNK> with us all\n"
          ],
          "name": "stdout"
        }
      ]
    },
    {
      "metadata": {
        "id": "9S_4jsMu-sGc",
        "colab_type": "text"
      },
      "cell_type": "markdown",
      "source": [
        "Compared with the original review in lowercase:\n",
        "\n",
        "\"this film was just brilliant casting location scenery story direction everyone's really suited the part they played and you could just imagine being there robert redford's is an amazing actor and now the same being director norman's father came from the same scottish island as myself so i loved the fact there was a real connection with this film the witty remarks throughout the film were great it was just brilliant so much that i bought the film as soon as it was released for retail and would recommend it to everyone to watch and the fly fishing was amazing really cried at the end it was so sad and you know what they say if you cry at a film it must have been good and this definitely was also congratulations to the two little boy's that played the part's of norman and paul they were just brilliant children are often left out of the praising list i think because the stars that play them all grown up are such a big profile for the whole film but these children are amazing and should be praised for what they have done don't you think the whole story was so lovely because it was true and was someone's life after all that was shared with us all\""
      ]
    },
    {
      "metadata": {
        "id": "Efgl0qjO-sGe",
        "colab_type": "code",
        "colab": {
          "autoexec": {
            "startup": false,
            "wait_interval": 0
          }
        }
      },
      "cell_type": "code",
      "source": [
        "max_url_len = 500\n",
        "reviews = [x[:max_url_len] for x in reviews]\n",
        "# Convert characters to int and pad\n",
        "reviews = [[vocab[x1] for x1 in x if x1 in vocab.keys()] for x in reviews]"
      ],
      "execution_count": 0,
      "outputs": []
    },
    {
      "metadata": {
        "id": "Uzn5qPUm-sGi",
        "colab_type": "code",
        "colab": {
          "autoexec": {
            "startup": false,
            "wait_interval": 0
          }
        }
      },
      "cell_type": "code",
      "source": [
        "X_pad = sequence.pad_sequences(reviews, maxlen=max_url_len)"
      ],
      "execution_count": 0,
      "outputs": []
    },
    {
      "metadata": {
        "id": "qYk8uiVS-sGv",
        "colab_type": "code",
        "colab": {
          "autoexec": {
            "startup": false,
            "wait_interval": 0
          },
          "base_uri": "https://localhost:8080/",
          "height": 119
        },
        "outputId": "9f260d4f-b35d-4f68-9fde-8e6ab28ff1b6",
        "executionInfo": {
          "status": "ok",
          "timestamp": 1531852254244,
          "user_tz": 300,
          "elapsed": 843,
          "user": {
            "displayName": "sergi castel",
            "photoUrl": "//lh5.googleusercontent.com/-t7uPTy_PD5c/AAAAAAAAAAI/AAAAAAAABjU/YrQqLvCov5A/s50-c-k-no/photo.jpg",
            "userId": "104485759475975710875"
          }
        }
      },
      "cell_type": "code",
      "source": [
        "X_pad"
      ],
      "execution_count": 24,
      "outputs": [
        {
          "output_type": "execute_result",
          "data": {
            "text/plain": [
              "array([[   0,    0,    0, ...,  590, 1604, 1209],\n",
              "       [   0,    0,    0, ..., 1209, 1479,  963],\n",
              "       [   0,    0,    0, ...,  830,  963,  590],\n",
              "       [   0,    0,    0, ..., 1992,    6,  590],\n",
              "       [   0,    0,    0, ..., 2023,  963,   13],\n",
              "       [   0,    0,    0, ...,  830,  963, 1479]], dtype=int32)"
            ]
          },
          "metadata": {
            "tags": []
          },
          "execution_count": 24
        }
      ]
    },
    {
      "metadata": {
        "id": "KbynL7Wc-sG3",
        "colab_type": "code",
        "colab": {
          "autoexec": {
            "startup": false,
            "wait_interval": 0
          },
          "base_uri": "https://localhost:8080/",
          "height": 34
        },
        "outputId": "8af4f110-fcea-4dac-cc81-3e7f5fb3832c",
        "executionInfo": {
          "status": "ok",
          "timestamp": 1531852465456,
          "user_tz": 300,
          "elapsed": 950,
          "user": {
            "displayName": "sergi castel",
            "photoUrl": "//lh5.googleusercontent.com/-t7uPTy_PD5c/AAAAAAAAAAI/AAAAAAAABjU/YrQqLvCov5A/s50-c-k-no/photo.jpg",
            "userId": "104485759475975710875"
          }
        }
      },
      "cell_type": "code",
      "source": [
        "X_pad[X_pad>5000]=2\n",
        "X_pad.shape"
      ],
      "execution_count": 27,
      "outputs": [
        {
          "output_type": "execute_result",
          "data": {
            "text/plain": [
              "(6, 500)"
            ]
          },
          "metadata": {
            "tags": []
          },
          "execution_count": 27
        }
      ]
    },
    {
      "metadata": {
        "id": "quQurCVihcwD",
        "colab_type": "text"
      },
      "cell_type": "markdown",
      "source": [
        "with the last trained model, we predict the sentiment of the reviews."
      ]
    },
    {
      "metadata": {
        "id": "kXMOiY1g-sG9",
        "colab_type": "code",
        "colab": {
          "autoexec": {
            "startup": false,
            "wait_interval": 0
          },
          "base_uri": "https://localhost:8080/",
          "height": 119
        },
        "outputId": "a93d77ca-43c5-4c33-bbfa-33b8c7c751f2",
        "executionInfo": {
          "status": "ok",
          "timestamp": 1531852256084,
          "user_tz": 300,
          "elapsed": 830,
          "user": {
            "displayName": "sergi castel",
            "photoUrl": "//lh5.googleusercontent.com/-t7uPTy_PD5c/AAAAAAAAAAI/AAAAAAAABjU/YrQqLvCov5A/s50-c-k-no/photo.jpg",
            "userId": "104485759475975710875"
          }
        }
      },
      "cell_type": "code",
      "source": [
        "model.predict(X_pad)"
      ],
      "execution_count": 26,
      "outputs": [
        {
          "output_type": "execute_result",
          "data": {
            "text/plain": [
              "array([[1.46029680e-03],\n",
              "       [1.12645479e-03],\n",
              "       [6.85931563e-01],\n",
              "       [4.32731496e-04],\n",
              "       [4.26584244e-04],\n",
              "       [1.02138634e-04]], dtype=float32)"
            ]
          },
          "metadata": {
            "tags": []
          },
          "execution_count": 26
        }
      ]
    },
    {
      "metadata": {
        "id": "QRjbqZj3izGZ",
        "colab_type": "text"
      },
      "cell_type": "markdown",
      "source": [
        "The final result is the probability associated with each  binary class."
      ]
    },
    {
      "metadata": {
        "id": "S-ltHfj_jSjZ",
        "colab_type": "code",
        "colab": {
          "autoexec": {
            "startup": false,
            "wait_interval": 0
          }
        }
      },
      "cell_type": "code",
      "source": [
        ""
      ],
      "execution_count": 0,
      "outputs": []
    }
  ]
}